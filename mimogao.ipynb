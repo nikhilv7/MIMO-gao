{
  "nbformat": 4,
  "nbformat_minor": 0,
  "metadata": {
    "colab": {
      "name": "mimogao.ipynb",
      "provenance": [],
      "collapsed_sections": []
    },
    "kernelspec": {
      "name": "python3",
      "display_name": "Python 3"
    }
  },
  "cells": [
    {
      "cell_type": "code",
      "metadata": {
        "id": "77ObVzvn6RIf",
        "colab_type": "code",
        "colab": {}
      },
      "source": [
        "import tensorflow as tf\n",
        "from tensorflow import keras\n",
        "import numpy as np\n",
        "import sys\n",
        "np.set_printoptions(threshold=100000)\n",
        "import random\n",
        "import os"
      ],
      "execution_count": 130,
      "outputs": []
    },
    {
      "cell_type": "markdown",
      "metadata": {
        "id": "Aox7wYABa9DU",
        "colab_type": "text"
      },
      "source": [
        "#Initialisation\n",
        "* h_gen is the Function for generating  Channel( Random Initialisation)"
      ]
    },
    {
      "cell_type": "code",
      "metadata": {
        "id": "_JMGnjTV240J",
        "colab_type": "code",
        "colab": {
          "base_uri": "https://localhost:8080/",
          "height": 35
        },
        "outputId": "fb8d895d-628b-4817-86eb-7e178791e16c"
      },
      "source": [
        "random.seed(21)\n",
        "\n",
        "x = list(range(0, 20))            #\n",
        "antennaCount=64  \n",
        "antennaList=np.arange(0,antennaCount)\n",
        "antennaList=antennaList.reshape(antennaCount,1)\n",
        "pi = np.pi\n",
        "trainingCount = 90000\n",
        "train_h=np.zeros([trainingCount,antennaCount],dtype=complex)\n",
        "validationCount = 14700\n",
        "val_h=np.zeros([validationCount,antennaCount],dtype=complex)\n",
        "testCount = 35000\n",
        "test_h=np.zeros([testCount,antennaCount],dtype=complex)\n",
        "tot_set = trainingCount + validationCount + testCount\n",
        "\n",
        "def h_gen():\n",
        "  propGain = (np.random.normal(0, 1, 8) + 1j * np.random.normal(0, 1, 8)) / np.sqrt(2)                  #Propagation Gain for Each Multipath Component (Unit Power) \n",
        "  phi = np.multiply((2 * pi / 20), random.choices(x, k=8))                                              #Randomly choosing Angle of arrival of different Multipath Components\n",
        "  phi=phi.reshape([1,8])\n",
        "  aphi=(1/np.sqrt(8))*np.exp((-1j*2*pi*np.sin(phi))*antennaList)                                        #Response Vector(Function of arrival angles) \n",
        "  channel=np.sum(aphi*propGain,axis=1)\n",
        "  return channel\n",
        "print(h_gen().shape)\n"
      ],
      "execution_count": 131,
      "outputs": [
        {
          "output_type": "stream",
          "text": [
            "(64,)\n"
          ],
          "name": "stdout"
        }
      ]
    },
    {
      "cell_type": "markdown",
      "metadata": {
        "id": "1r3SOdlKbwO3",
        "colab_type": "text"
      },
      "source": [
        "Generating Channels for Training, Validation and Testing"
      ]
    },
    {
      "cell_type": "code",
      "metadata": {
        "id": "HWzlot-wI6cx",
        "colab_type": "code",
        "colab": {}
      },
      "source": [
        "for i in range(trainingCount):\n",
        "  train_h[i,:]=h_gen()\n",
        "for i in range(testCount):\n",
        "  test_h[i,:]=h_gen()\n",
        "for i in range(validationCount):\n",
        "    val_h[i,:]=h_gen()"
      ],
      "execution_count": 132,
      "outputs": []
    },
    {
      "cell_type": "markdown",
      "metadata": {
        "id": "AHz2P7ThcUS5",
        "colab_type": "text"
      },
      "source": [
        "\n",
        "*   The Neural Network Cannot Process complex data as such.\n",
        "\n",
        "*   So the 64 units long Complex data is divided into 64 real and 64 imaginary part vectors and is concateneated to get a 128 unit long Real Vector\n",
        "\n",
        "\n"
      ]
    },
    {
      "cell_type": "code",
      "metadata": {
        "id": "DbKqHO7u6W70",
        "colab_type": "code",
        "colab": {
          "base_uri": "https://localhost:8080/",
          "height": 35
        },
        "outputId": "a78a4467-3a08-4487-a934-88ed3c5e4038"
      },
      "source": [
        "train_hvector = np.concatenate((np.real(train_h), np.imag(train_h)), axis=1)\n",
        "val_hvector = np.concatenate((np.real(val_h), np.imag(val_h)), axis=1)\n",
        "test_hvector = np.concatenate((np.real(test_h), np.imag(test_h)), axis=1)\n",
        "\n",
        "print(train_h.shape, val_h.shape, test_h.shape, train_hvector.shape, val_hvector.shape, test_hvector.shape)"
      ],
      "execution_count": 133,
      "outputs": [
        {
          "output_type": "stream",
          "text": [
            "(90000, 64) (14700, 64) (35000, 64) (90000, 128) (14700, 128) (35000, 128)\n"
          ],
          "name": "stdout"
        }
      ]
    },
    {
      "cell_type": "markdown",
      "metadata": {
        "id": "iy6djPlj6iDm",
        "colab_type": "text"
      },
      "source": [
        "ADC model\n"
      ]
    },
    {
      "cell_type": "markdown",
      "metadata": {
        "id": "2VJae812PwJJ",
        "colab_type": "text"
      },
      "source": [
        "1) Preparing Training Data"
      ]
    },
    {
      "cell_type": "code",
      "metadata": {
        "id": "5rUJ8MqSiK-y",
        "colab_type": "code",
        "colab": {}
      },
      "source": [
        "from collections import Counter\n",
        "nn=0.5                                                                         #ratio of high Res antennas to Total no antennas\n",
        "HighResCount =int(nn*antennaCount)   \n",
        "LowResCount=antennaCount-HighResCount                                                                 \n",
        "a=[0.6366,0.8825,0.96546,0.990503,0.997501]\n",
        "alpha=a[2]\n",
        "snrdb=[0,5,10,15,20,25,30]\n",
        "snrLinear=np.power(10,np.divide(snrdb,10))\n",
        "\n",
        "powerTrain=random.choices(snrLinear,k=trainingCount)\n",
        "powerTrain=np.asarray(powerTrain).reshape([trainingCount,1])                         #Converting and reshaping the list to Numpy array"
      ],
      "execution_count": 134,
      "outputs": []
    },
    {
      "cell_type": "markdown",
      "metadata": {
        "id": "jzrR5wRtI38l",
        "colab_type": "text"
      },
      "source": [
        "Covariance Matrix for Quantisation Noise"
      ]
    },
    {
      "cell_type": "code",
      "metadata": {
        "id": "XsjJongfGdSy",
        "colab_type": "code",
        "colab": {}
      },
      "source": [
        "def qNoiseGen(h,power):\n",
        "    SampleCount=h.shape[0]\n",
        "    hLowRes = h[:,HighResCount:]\n",
        "    Rq=alpha*(1-alpha)*(1+power*(abs(hLowRes)**2))                              #Covariance Matrix\n",
        "    QuantNoise = (np.random.normal(0, Rq)+ \n",
        "                  1j * np.random.normal(0, Rq)) / np.sqrt(2)\n",
        "    return QuantNoise            "
      ],
      "execution_count": 135,
      "outputs": []
    },
    {
      "cell_type": "code",
      "metadata": {
        "id": "bu-XLSFY7iD2",
        "colab_type": "code",
        "colab": {
          "base_uri": "https://localhost:8080/",
          "height": 35
        },
        "outputId": "622043e7-a0be-4e02-849d-51561074c50a"
      },
      "source": [
        "noise1 = (np.random.normal(0,np.ones([ trainingCount,antennaCount])) +\n",
        "      1j * np.random.normal(0, np.ones([ trainingCount,antennaCount]))) / np.sqrt(2)\n",
        "y=np.sqrt(powerTrain)*train_h+noise1                                                 # System Model\n",
        "y_highRes=y[:,:HighResCount]\n",
        "quantNoisetrain=qNoiseGen(train_h,powerTrain)\n",
        "y_lowRes=alpha*y[:,HighResCount:]+quantNoisetrain\n",
        "\n",
        "#Training Set for DI-DNN\n",
        "train_received=np.concatenate((y_highRes,y_lowRes),axis=1)                      #Recieved Values at the output of the RF chain\n",
        "train_received=train_received/np.sqrt(powerTrain)                                    #Output of Least Square Estimation\n",
        "train_receivedVector = np.concatenate((np.real(train_received), np.imag(train_received)), axis=1)             #Unrolling real and imag Axis\n",
        "\n",
        "print(y.shape,y_highRes.shape,train_received.shape,train_receivedVector.shape)"
      ],
      "execution_count": 136,
      "outputs": [
        {
          "output_type": "stream",
          "text": [
            "(90000, 64) (90000, 32) (90000, 64) (90000, 128)\n"
          ],
          "name": "stdout"
        }
      ]
    },
    {
      "cell_type": "markdown",
      "metadata": {
        "id": "Eo7ZRVLlP1Ol",
        "colab_type": "text"
      },
      "source": [
        "2) Preparing Test data for different SNR"
      ]
    },
    {
      "cell_type": "code",
      "metadata": {
        "id": "JIHzWCiqP6L6",
        "colab_type": "code",
        "colab": {
          "base_uri": "https://localhost:8080/",
          "height": 35
        },
        "outputId": "6c7ec0c4-b701-4a92-d43a-4a11cb33d543"
      },
      "source": [
        "testCountperSNR=5000\n",
        "noise2 = (np.random.normal(0, np.ones([testCount,antennaCount])) + \n",
        "          1j * np.random.normal(0,np.ones([testCount,antennaCount]))) / np.sqrt(2)\n",
        "y_test=np.zeros([testCount,antennaCount],dtype=complex)\n",
        "powerTest=np.repeat(snrLinear,testCountperSNR).reshape([testCount,1])           #Repeating Each SNR 4000 times to generate 4000 test samples for each SNR value\n",
        "\n",
        "y_test=np.sqrt(powerTest)*test_h+noise2\n",
        "y_highResTest=y_test[:,:HighResCount]\n",
        "quantNoisetest= qNoiseGen(test_h,powerTest)\n",
        "y_lowResTest=alpha*y_test[:,HighResCount:]+quantNoisetest\n",
        "\n",
        "test_received=np.concatenate((y_highResTest,y_lowResTest),axis=1)\n",
        "test_received/=np.sqrt(powerTest)\n",
        "test_receivedVector=np.concatenate((np.real(test_received), np.imag(test_received)), axis=1)\n",
        "print(y_test.shape,test_receivedVector.shape)"
      ],
      "execution_count": 137,
      "outputs": [
        {
          "output_type": "stream",
          "text": [
            "(35000, 64) (35000, 128)\n"
          ],
          "name": "stdout"
        }
      ]
    },
    {
      "cell_type": "code",
      "metadata": {
        "id": "d9yrOovwhTmz",
        "colab_type": "code",
        "colab": {
          "base_uri": "https://localhost:8080/",
          "height": 35
        },
        "outputId": "49ffe344-96a3-483f-b40a-9dd7e337e01e"
      },
      "source": [
        "from google.colab import drive\n",
        "drive.mount('/content/gdrive')"
      ],
      "execution_count": 138,
      "outputs": [
        {
          "output_type": "stream",
          "text": [
            "Drive already mounted at /content/gdrive; to attempt to forcibly remount, call drive.mount(\"/content/gdrive\", force_remount=True).\n"
          ],
          "name": "stdout"
        }
      ]
    },
    {
      "cell_type": "code",
      "metadata": {
        "id": "vOBSDhInKDcA",
        "colab_type": "code",
        "colab": {}
      },
      "source": [
        "import os\n",
        "checkpoint_path='/content/gdrive/My Drive/Colab_Notebooks/cp'\n",
        "checkpoint_dir = os.path.dirname(checkpoint_path)\n",
        "cp_callback = keras.callbacks.ModelCheckpoint(filepath=checkpoint_path,\n",
        "                                                 save_weights_only=True,\n",
        "                                                 verbose=1)"
      ],
      "execution_count": 139,
      "outputs": []
    },
    {
      "cell_type": "markdown",
      "metadata": {
        "id": "nlzxUTp7H-km",
        "colab_type": "text"
      },
      "source": [
        "Model for DI-DNN"
      ]
    },
    {
      "cell_type": "code",
      "metadata": {
        "id": "taVzezVuICeK",
        "colab_type": "code",
        "colab": {
          "base_uri": "https://localhost:8080/",
          "height": 1000
        },
        "outputId": "6752bcd1-8aee-4d52-fd0a-a50ee3c68996"
      },
      "source": [
        "def myModel():\n",
        "  model = keras.models.Sequential([\n",
        "      keras.layers.Dense(160, activation='relu',input_shape=(128,)),\n",
        "      keras.layers.Dense(200, activation='relu'),\n",
        "      #keras.layers.Dense(400, activation=tf.nn.relu),\n",
        "      #keras.layers.Dense(400, activation=tf.nn.relu),      \n",
        "      keras.layers.Dense(160, activation='relu'),\n",
        "      keras.layers.Dense(128, activation='tanh'),\n",
        "  ])\n",
        "  model.compile(optimizer=keras.optimizers.Adam(0.001),loss='mse',metrics='accuracy')\n",
        "  return model\n",
        "\n",
        "model =myModel()\n",
        "#model=keras.models.load_model('/content/drive/My Drive/Research/Models/mimogao')\n",
        "#model.load_weights(checkpoint_path)\n",
        "log=model.fit(train_receivedVector,train_hvector/3,epochs=100,verbose=1,batch_size=128)\n",
        "model.summary()"
      ],
      "execution_count": 140,
      "outputs": [
        {
          "output_type": "stream",
          "text": [
            "Epoch 1/100\n",
            "704/704 [==============================] - 3s 4ms/step - loss: 0.0098 - accuracy: 0.4371\n",
            "Epoch 2/100\n",
            "704/704 [==============================] - 3s 4ms/step - loss: 0.0032 - accuracy: 0.5806\n",
            "Epoch 3/100\n",
            "704/704 [==============================] - 3s 4ms/step - loss: 0.0029 - accuracy: 0.6001\n",
            "Epoch 4/100\n",
            "704/704 [==============================] - 3s 4ms/step - loss: 0.0028 - accuracy: 0.6074\n",
            "Epoch 5/100\n",
            "704/704 [==============================] - 3s 4ms/step - loss: 0.0028 - accuracy: 0.6141\n",
            "Epoch 6/100\n",
            "704/704 [==============================] - 6s 9ms/step - loss: 0.0027 - accuracy: 0.6149\n",
            "Epoch 7/100\n",
            "704/704 [==============================] - 4s 5ms/step - loss: 0.0027 - accuracy: 0.6161\n",
            "Epoch 8/100\n",
            "704/704 [==============================] - 3s 4ms/step - loss: 0.0027 - accuracy: 0.6200\n",
            "Epoch 9/100\n",
            "704/704 [==============================] - 3s 4ms/step - loss: 0.0027 - accuracy: 0.6210\n",
            "Epoch 10/100\n",
            "704/704 [==============================] - 3s 4ms/step - loss: 0.0026 - accuracy: 0.6219\n",
            "Epoch 11/100\n",
            "704/704 [==============================] - 3s 4ms/step - loss: 0.0026 - accuracy: 0.6239\n",
            "Epoch 12/100\n",
            "704/704 [==============================] - 3s 4ms/step - loss: 0.0025 - accuracy: 0.6290\n",
            "Epoch 13/100\n",
            "704/704 [==============================] - 3s 4ms/step - loss: 0.0024 - accuracy: 0.6352\n",
            "Epoch 14/100\n",
            "704/704 [==============================] - 3s 5ms/step - loss: 0.0022 - accuracy: 0.6460\n",
            "Epoch 15/100\n",
            "704/704 [==============================] - 3s 5ms/step - loss: 0.0021 - accuracy: 0.6546\n",
            "Epoch 16/100\n",
            "704/704 [==============================] - 3s 4ms/step - loss: 0.0020 - accuracy: 0.6634\n",
            "Epoch 17/100\n",
            "704/704 [==============================] - 3s 4ms/step - loss: 0.0020 - accuracy: 0.6692\n",
            "Epoch 18/100\n",
            "704/704 [==============================] - 3s 4ms/step - loss: 0.0019 - accuracy: 0.6754\n",
            "Epoch 19/100\n",
            "704/704 [==============================] - 3s 4ms/step - loss: 0.0019 - accuracy: 0.6781\n",
            "Epoch 20/100\n",
            "704/704 [==============================] - 3s 4ms/step - loss: 0.0018 - accuracy: 0.6832\n",
            "Epoch 21/100\n",
            "704/704 [==============================] - 3s 4ms/step - loss: 0.0018 - accuracy: 0.6820\n",
            "Epoch 22/100\n",
            "704/704 [==============================] - 3s 4ms/step - loss: 0.0018 - accuracy: 0.6853\n",
            "Epoch 23/100\n",
            "704/704 [==============================] - 3s 4ms/step - loss: 0.0018 - accuracy: 0.6851\n",
            "Epoch 24/100\n",
            "704/704 [==============================] - 3s 4ms/step - loss: 0.0018 - accuracy: 0.6866\n",
            "Epoch 25/100\n",
            "704/704 [==============================] - 3s 4ms/step - loss: 0.0017 - accuracy: 0.6906\n",
            "Epoch 26/100\n",
            "704/704 [==============================] - 3s 4ms/step - loss: 0.0017 - accuracy: 0.6904\n",
            "Epoch 27/100\n",
            "704/704 [==============================] - 3s 4ms/step - loss: 0.0017 - accuracy: 0.6914\n",
            "Epoch 28/100\n",
            "704/704 [==============================] - 3s 4ms/step - loss: 0.0017 - accuracy: 0.6924\n",
            "Epoch 29/100\n",
            "704/704 [==============================] - 3s 4ms/step - loss: 0.0017 - accuracy: 0.6933\n",
            "Epoch 30/100\n",
            "704/704 [==============================] - 3s 4ms/step - loss: 0.0017 - accuracy: 0.6936\n",
            "Epoch 31/100\n",
            "704/704 [==============================] - 3s 4ms/step - loss: 0.0017 - accuracy: 0.6960\n",
            "Epoch 32/100\n",
            "704/704 [==============================] - 3s 4ms/step - loss: 0.0017 - accuracy: 0.6952\n",
            "Epoch 33/100\n",
            "704/704 [==============================] - 3s 4ms/step - loss: 0.0017 - accuracy: 0.6954\n",
            "Epoch 34/100\n",
            "704/704 [==============================] - 3s 4ms/step - loss: 0.0017 - accuracy: 0.6989\n",
            "Epoch 35/100\n",
            "704/704 [==============================] - 3s 5ms/step - loss: 0.0016 - accuracy: 0.6997\n",
            "Epoch 36/100\n",
            "704/704 [==============================] - 3s 4ms/step - loss: 0.0016 - accuracy: 0.7014\n",
            "Epoch 37/100\n",
            "704/704 [==============================] - 3s 4ms/step - loss: 0.0016 - accuracy: 0.7001\n",
            "Epoch 38/100\n",
            "704/704 [==============================] - 3s 4ms/step - loss: 0.0016 - accuracy: 0.7002\n",
            "Epoch 39/100\n",
            "704/704 [==============================] - 3s 4ms/step - loss: 0.0016 - accuracy: 0.7015\n",
            "Epoch 40/100\n",
            "704/704 [==============================] - 3s 5ms/step - loss: 0.0016 - accuracy: 0.7010\n",
            "Epoch 41/100\n",
            "704/704 [==============================] - 3s 4ms/step - loss: 0.0016 - accuracy: 0.7011\n",
            "Epoch 42/100\n",
            "704/704 [==============================] - 3s 4ms/step - loss: 0.0016 - accuracy: 0.7029\n",
            "Epoch 43/100\n",
            "704/704 [==============================] - 3s 4ms/step - loss: 0.0016 - accuracy: 0.7051\n",
            "Epoch 44/100\n",
            "704/704 [==============================] - 3s 4ms/step - loss: 0.0016 - accuracy: 0.7039\n",
            "Epoch 45/100\n",
            "704/704 [==============================] - 3s 4ms/step - loss: 0.0016 - accuracy: 0.7050\n",
            "Epoch 46/100\n",
            "704/704 [==============================] - 3s 4ms/step - loss: 0.0016 - accuracy: 0.7042\n",
            "Epoch 47/100\n",
            "704/704 [==============================] - 3s 5ms/step - loss: 0.0016 - accuracy: 0.7054\n",
            "Epoch 48/100\n",
            "704/704 [==============================] - 3s 5ms/step - loss: 0.0016 - accuracy: 0.7070\n",
            "Epoch 49/100\n",
            "704/704 [==============================] - 3s 4ms/step - loss: 0.0016 - accuracy: 0.7077\n",
            "Epoch 50/100\n",
            "704/704 [==============================] - 3s 4ms/step - loss: 0.0016 - accuracy: 0.7062\n",
            "Epoch 51/100\n",
            "704/704 [==============================] - 3s 4ms/step - loss: 0.0016 - accuracy: 0.7051\n",
            "Epoch 52/100\n",
            "704/704 [==============================] - 3s 4ms/step - loss: 0.0016 - accuracy: 0.7082\n",
            "Epoch 53/100\n",
            "704/704 [==============================] - 3s 5ms/step - loss: 0.0016 - accuracy: 0.7071\n",
            "Epoch 54/100\n",
            "704/704 [==============================] - 4s 5ms/step - loss: 0.0016 - accuracy: 0.7082\n",
            "Epoch 55/100\n",
            "704/704 [==============================] - 3s 5ms/step - loss: 0.0016 - accuracy: 0.7088\n",
            "Epoch 56/100\n",
            "704/704 [==============================] - 3s 5ms/step - loss: 0.0015 - accuracy: 0.7095\n",
            "Epoch 57/100\n",
            "704/704 [==============================] - 3s 4ms/step - loss: 0.0016 - accuracy: 0.7100\n",
            "Epoch 58/100\n",
            "704/704 [==============================] - 3s 5ms/step - loss: 0.0015 - accuracy: 0.7082\n",
            "Epoch 59/100\n",
            "704/704 [==============================] - 3s 4ms/step - loss: 0.0015 - accuracy: 0.7079\n",
            "Epoch 60/100\n",
            "704/704 [==============================] - 3s 4ms/step - loss: 0.0015 - accuracy: 0.7085\n",
            "Epoch 61/100\n",
            "704/704 [==============================] - 3s 4ms/step - loss: 0.0015 - accuracy: 0.7110\n",
            "Epoch 62/100\n",
            "704/704 [==============================] - 3s 4ms/step - loss: 0.0015 - accuracy: 0.7117\n",
            "Epoch 63/100\n",
            "704/704 [==============================] - 3s 4ms/step - loss: 0.0015 - accuracy: 0.7111\n",
            "Epoch 64/100\n",
            "704/704 [==============================] - 3s 4ms/step - loss: 0.0015 - accuracy: 0.7113\n",
            "Epoch 65/100\n",
            "704/704 [==============================] - 3s 4ms/step - loss: 0.0015 - accuracy: 0.7118\n",
            "Epoch 66/100\n",
            "704/704 [==============================] - 3s 4ms/step - loss: 0.0015 - accuracy: 0.7132\n",
            "Epoch 67/100\n",
            "704/704 [==============================] - 3s 4ms/step - loss: 0.0015 - accuracy: 0.7139\n",
            "Epoch 68/100\n",
            "704/704 [==============================] - 3s 4ms/step - loss: 0.0015 - accuracy: 0.7128\n",
            "Epoch 69/100\n",
            "704/704 [==============================] - 3s 4ms/step - loss: 0.0015 - accuracy: 0.7134\n",
            "Epoch 70/100\n",
            "704/704 [==============================] - 3s 4ms/step - loss: 0.0015 - accuracy: 0.7155\n",
            "Epoch 71/100\n",
            "704/704 [==============================] - 3s 4ms/step - loss: 0.0015 - accuracy: 0.7148\n",
            "Epoch 72/100\n",
            "704/704 [==============================] - 3s 5ms/step - loss: 0.0015 - accuracy: 0.7155\n",
            "Epoch 73/100\n",
            "704/704 [==============================] - 3s 5ms/step - loss: 0.0015 - accuracy: 0.7140\n",
            "Epoch 74/100\n",
            "704/704 [==============================] - 3s 4ms/step - loss: 0.0015 - accuracy: 0.7166\n",
            "Epoch 75/100\n",
            "704/704 [==============================] - 3s 4ms/step - loss: 0.0015 - accuracy: 0.7146\n",
            "Epoch 76/100\n",
            "704/704 [==============================] - 3s 4ms/step - loss: 0.0015 - accuracy: 0.7155\n",
            "Epoch 77/100\n",
            "704/704 [==============================] - 3s 4ms/step - loss: 0.0015 - accuracy: 0.7155\n",
            "Epoch 78/100\n",
            "704/704 [==============================] - 3s 4ms/step - loss: 0.0015 - accuracy: 0.7147\n",
            "Epoch 79/100\n",
            "704/704 [==============================] - 3s 4ms/step - loss: 0.0015 - accuracy: 0.7174\n",
            "Epoch 80/100\n",
            "704/704 [==============================] - 3s 4ms/step - loss: 0.0015 - accuracy: 0.7162\n",
            "Epoch 81/100\n",
            "704/704 [==============================] - 3s 4ms/step - loss: 0.0015 - accuracy: 0.7154\n",
            "Epoch 82/100\n",
            "704/704 [==============================] - 3s 4ms/step - loss: 0.0015 - accuracy: 0.7179\n",
            "Epoch 83/100\n",
            "704/704 [==============================] - 3s 4ms/step - loss: 0.0015 - accuracy: 0.7158\n",
            "Epoch 84/100\n",
            "704/704 [==============================] - 3s 4ms/step - loss: 0.0015 - accuracy: 0.7181\n",
            "Epoch 85/100\n",
            "704/704 [==============================] - 3s 4ms/step - loss: 0.0015 - accuracy: 0.7158\n",
            "Epoch 86/100\n",
            "704/704 [==============================] - 3s 4ms/step - loss: 0.0015 - accuracy: 0.7197\n",
            "Epoch 87/100\n",
            "704/704 [==============================] - 3s 4ms/step - loss: 0.0015 - accuracy: 0.7175\n",
            "Epoch 88/100\n",
            "704/704 [==============================] - 3s 4ms/step - loss: 0.0015 - accuracy: 0.7199\n",
            "Epoch 89/100\n",
            "704/704 [==============================] - 3s 4ms/step - loss: 0.0015 - accuracy: 0.7174\n",
            "Epoch 90/100\n",
            "704/704 [==============================] - 3s 5ms/step - loss: 0.0015 - accuracy: 0.7191\n",
            "Epoch 91/100\n",
            "704/704 [==============================] - 3s 4ms/step - loss: 0.0015 - accuracy: 0.7183\n",
            "Epoch 92/100\n",
            "704/704 [==============================] - 3s 4ms/step - loss: 0.0015 - accuracy: 0.7172\n",
            "Epoch 93/100\n",
            "704/704 [==============================] - 3s 5ms/step - loss: 0.0015 - accuracy: 0.7183\n",
            "Epoch 94/100\n",
            "704/704 [==============================] - 3s 4ms/step - loss: 0.0015 - accuracy: 0.7193\n",
            "Epoch 95/100\n",
            "704/704 [==============================] - 3s 4ms/step - loss: 0.0015 - accuracy: 0.7203\n",
            "Epoch 96/100\n",
            "704/704 [==============================] - 3s 4ms/step - loss: 0.0015 - accuracy: 0.7174\n",
            "Epoch 97/100\n",
            "704/704 [==============================] - 3s 4ms/step - loss: 0.0015 - accuracy: 0.7194\n",
            "Epoch 98/100\n",
            "704/704 [==============================] - 3s 4ms/step - loss: 0.0014 - accuracy: 0.7199\n",
            "Epoch 99/100\n",
            "704/704 [==============================] - 3s 4ms/step - loss: 0.0015 - accuracy: 0.7214\n",
            "Epoch 100/100\n",
            "704/704 [==============================] - 3s 4ms/step - loss: 0.0014 - accuracy: 0.7191\n",
            "Model: \"sequential_20\"\n",
            "_________________________________________________________________\n",
            "Layer (type)                 Output Shape              Param #   \n",
            "=================================================================\n",
            "dense_80 (Dense)             (None, 160)               20640     \n",
            "_________________________________________________________________\n",
            "dense_81 (Dense)             (None, 200)               32200     \n",
            "_________________________________________________________________\n",
            "dense_82 (Dense)             (None, 160)               32160     \n",
            "_________________________________________________________________\n",
            "dense_83 (Dense)             (None, 128)               20608     \n",
            "=================================================================\n",
            "Total params: 105,608\n",
            "Trainable params: 105,608\n",
            "Non-trainable params: 0\n",
            "_________________________________________________________________\n"
          ],
          "name": "stdout"
        }
      ]
    },
    {
      "cell_type": "code",
      "metadata": {
        "id": "NH-QJ9-kCvhn",
        "colab_type": "code",
        "colab": {
          "base_uri": "https://localhost:8080/",
          "height": 283
        },
        "outputId": "465d8cb6-2167-4a86-810f-3884e3ac9b8d"
      },
      "source": [
        "import matplotlib.pyplot as plt\n",
        "\n",
        "fig,axes= plt.subplots(1,2,figsize=(10,4))\n",
        "axes[0].plot(log.history['accuracy'])\n",
        "axes[1].plot(log.history['loss'])"
      ],
      "execution_count": 141,
      "outputs": [
        {
          "output_type": "execute_result",
          "data": {
            "text/plain": [
              "[<matplotlib.lines.Line2D at 0x7f7ee49af7f0>]"
            ]
          },
          "metadata": {
            "tags": []
          },
          "execution_count": 141
        },
        {
          "output_type": "display_data",
          "data": {
            "image/png": "[encoded data removed]",
            "text/plain": [
              "<Figure size 720x288 with 2 Axes>"
            ]
          },
          "metadata": {
            "tags": [],
            "needs_background": "light"
          }
        }
      ]
    },
    {
      "cell_type": "code",
      "metadata": {
        "id": "Ph6ikLzygJPD",
        "colab_type": "code",
        "colab": {
          "base_uri": "https://localhost:8080/",
          "height": 54
        },
        "outputId": "0f01b1a9-3dc3-449f-b09f-a137daaf1b79"
      },
      "source": [
        "from google.colab import drive\n",
        "drive.mount('/content/gdrive')\n",
        "model_name = \"mimogao\"\n",
        "model_dir = \"/content/gdrive/My Drive/Research/Models/\"\n",
        "dir = os.path.join(model_dir, model_name)\n",
        "model.save(dir)"
      ],
      "execution_count": 142,
      "outputs": [
        {
          "output_type": "stream",
          "text": [
            "Drive already mounted at /content/gdrive; to attempt to forcibly remount, call drive.mount(\"/content/gdrive\", force_remount=True).\n",
            "INFO:tensorflow:Assets written to: /content/gdrive/My Drive/Research/Models/mimogao/assets\n"
          ],
          "name": "stdout"
        }
      ]
    },
    {
      "cell_type": "code",
      "metadata": {
        "id": "NDqqxCBN00YY",
        "colab_type": "code",
        "colab": {}
      },
      "source": [
        "model=keras.models.load_model(dir)"
      ],
      "execution_count": 143,
      "outputs": []
    },
    {
      "cell_type": "markdown",
      "metadata": {
        "id": "V4uGmhzparET",
        "colab_type": "text"
      },
      "source": [
        "Finding Mean Square Corresponding to each SNR value"
      ]
    },
    {
      "cell_type": "code",
      "metadata": {
        "id": "3Vwgyc-mzHKK",
        "colab_type": "code",
        "colab": {
          "base_uri": "https://localhost:8080/",
          "height": 146
        },
        "outputId": "1c4f5c36-7fb8-487b-ecd0-5174a323daae"
      },
      "source": [
        "for w in range(len(snrLinear)):\n",
        "  loss,acc=model.evaluate(test_receivedVector[w*testCountperSNR:(w+1)*testCountperSNR,:],test_hvector[w*testCountperSNR:(w+1)*testCountperSNR,:]/3)\n"
      ],
      "execution_count": 144,
      "outputs": [
        {
          "output_type": "stream",
          "text": [
            "157/157 [==============================] - 0s 1ms/step - loss: 0.0068 - accuracy: 0.4110\n",
            "157/157 [==============================] - 0s 1ms/step - loss: 0.0023 - accuracy: 0.5944\n",
            "157/157 [==============================] - 0s 1ms/step - loss: 0.0010 - accuracy: 0.7268\n",
            "157/157 [==============================] - 0s 1ms/step - loss: 6.4594e-04 - accuracy: 0.7680\n",
            "157/157 [==============================] - 0s 1ms/step - loss: 5.0164e-04 - accuracy: 0.7984\n",
            "157/157 [==============================] - 0s 1ms/step - loss: 4.4184e-04 - accuracy: 0.8062\n",
            "157/157 [==============================] - 0s 1ms/step - loss: 5.4599e-04 - accuracy: 0.7906\n"
          ],
          "name": "stdout"
        }
      ]
    },
    {
      "cell_type": "code",
      "metadata": {
        "id": "F-5tA1f-Ho9y",
        "colab_type": "code",
        "colab": {
          "base_uri": "https://localhost:8080/",
          "height": 54
        },
        "outputId": "3de59b2f-0e07-4509-a3bd-609d45609c03"
      },
      "source": [
        "h_predict=model.predict(test_receivedVector)\n",
        "h_retain=3*(h_predict[:,:antennaCount]+1j*h_predict[:,antennaCount:])\n",
        "diff=(test_h-h_retain)\n",
        "normsq_test=np.square(np.linalg.norm(test_h,axis=1))\n",
        "normsq_diff=np.square(np.linalg.norm(diff,axis=1))\n",
        "error=normsq_diff/normsq_test\n",
        "nmse=np.zeros(len(snrLinear),)\n",
        "for w in range(len(snrLinear)):\n",
        "  nmse[w]= (1/testCountperSNR) * np.sum(error[w*testCountperSNR:(w+1)*testCountperSNR])\n",
        "\n",
        "print(nmse)\n",
        "#print(norm_test.shape,norm_diff.shape)\n",
        "#print(h_predict.shape,h_retain.shape,diff.shape)\n",
        "#print(diff)\n",
        "#h_predict-\n",
        "#for w in range(len(snrLinear)):\n",
        " # loss,acc=h_predict(test_recievedVector[:,w*testCountperSNR:(w+1)*testCountperSNR].T,test_hvector[:,w*testCountperSNR:(w+1)*testCountperSNR].T/3,)\n",
        "\n"
      ],
      "execution_count": 145,
      "outputs": [
        {
          "output_type": "stream",
          "text": [
            "[0.1506066  0.05128028 0.02044812 0.01211983 0.00894353 0.00769225\n",
            " 0.00893393]\n"
          ],
          "name": "stdout"
        }
      ]
    },
    {
      "cell_type": "code",
      "metadata": {
        "id": "-1Vf01k7Q1Nd",
        "colab_type": "code",
        "colab": {
          "base_uri": "https://localhost:8080/",
          "height": 283
        },
        "outputId": "266d7264-421b-45e3-a12f-ed5aa3aeff81"
      },
      "source": [
        "import matplotlib.pyplot as plt\n",
        "plt.semilogy(snrdb,nmse)"
      ],
      "execution_count": 146,
      "outputs": [
        {
          "output_type": "execute_result",
          "data": {
            "text/plain": [
              "[<matplotlib.lines.Line2D at 0x7f7ee71d77b8>]"
            ]
          },
          "metadata": {
            "tags": []
          },
          "execution_count": 146
        },
        {
          "output_type": "display_data",
          "data": {
            "image/png": "[encoded data removed]",
            "text/plain": [
              "<Figure size 432x288 with 1 Axes>"
            ]
          },
          "metadata": {
            "tags": [],
            "needs_background": "light"
          }
        }
      ]
    },
    {
      "cell_type": "markdown",
      "metadata": {
        "id": "NhHGIBmMhvWl",
        "colab_type": "text"
      },
      "source": [
        "#SIP-DNN: \n",
        "Uses the information obtained from the set of High resolution ADCS to train the Network.\n",
        "\n",
        "1) Training Data for SIP DNN"
      ]
    },
    {
      "cell_type": "code",
      "metadata": {
        "id": "sgOUsUtSHsll",
        "colab_type": "code",
        "colab": {
          "base_uri": "https://localhost:8080/",
          "height": 35
        },
        "outputId": "db323059-2f09-42b8-d903-e296477a53a3"
      },
      "source": [
        "#Training set for SIP-DNN\n",
        "trainreceivedRefinement=y_highRes/np.sqrt(powerTrain) \n",
        "trainreceivedRefinement=np.concatenate((np.real(trainreceivedRefinement),np.imag(trainreceivedRefinement)),axis=1)\n",
        "print(y.shape,y_highRes.shape,trainreceivedRefinement.shape)"
      ],
      "execution_count": 147,
      "outputs": [
        {
          "output_type": "stream",
          "text": [
            "(90000, 64) (90000, 32) (90000, 64)\n"
          ],
          "name": "stdout"
        }
      ]
    },
    {
      "cell_type": "code",
      "metadata": {
        "id": "qqPuMhUHbtGI",
        "colab_type": "code",
        "colab": {
          "base_uri": "https://localhost:8080/",
          "height": 35
        },
        "outputId": "2a2edeff-df86-4d2e-b485-fe449cf6fbe8"
      },
      "source": [
        "train_hRefinement = train_h[:,:HighResCount]\n",
        "train_hRefinementVector = np.concatenate((np.real(train_hRefinement),np.imag(train_hRefinement)),axis=1)\n",
        "print(train_h.shape,train_hRefinement.shape,train_hRefinementVector.shape)"
      ],
      "execution_count": 148,
      "outputs": [
        {
          "output_type": "stream",
          "text": [
            "(90000, 64) (90000, 32) (90000, 64)\n"
          ],
          "name": "stdout"
        }
      ]
    },
    {
      "cell_type": "code",
      "metadata": {
        "id": "9feWusaoHr2C",
        "colab_type": "code",
        "colab": {
          "base_uri": "https://localhost:8080/",
          "height": 1000
        },
        "outputId": "454a5216-2786-4222-b23d-8f579dae44e9"
      },
      "source": [
        "def myModelR():\n",
        "  model = keras.models.Sequential([\n",
        "      keras.layers.Dense(120, activation='relu',input_shape=(64,)),\n",
        "      keras.layers.Dense(200, activation='relu'),\n",
        "      #keras.layers.Dense(400, activation=tf.nn.relu),\n",
        "      #keras.layers.Dense(400, activation=tf.nn.relu),      \n",
        "      keras.layers.Dense(120, activation='relu'),\n",
        "      keras.layers.Dense(64, activation='tanh'),\n",
        "  ])\n",
        "  model.compile(optimizer=keras.optimizers.Adam(lr=0.001),loss='mse',metrics='accuracy')\n",
        "  return model\n",
        "\n",
        "modelR=myModelR()\n",
        "logR=modelR.fit(trainreceivedRefinement,train_hRefinementVector/3,verbose=1,epochs=100, batch_size=128)\n",
        "modelR.summary()\n",
        "fig,axes= plt.subplots(1,2,figsize=(10,4))\n",
        "axes[0].plot(logR.history['accuracy'])\n",
        "axes[1].plot(logR.history['loss'])"
      ],
      "execution_count": 149,
      "outputs": [
        {
          "output_type": "stream",
          "text": [
            "Epoch 1/100\n",
            "704/704 [==============================] - 2s 3ms/step - loss: 0.0091 - accuracy: 0.5263\n",
            "Epoch 2/100\n",
            "704/704 [==============================] - 2s 3ms/step - loss: 0.0039 - accuracy: 0.6614\n",
            "Epoch 3/100\n",
            "704/704 [==============================] - 2s 3ms/step - loss: 0.0036 - accuracy: 0.6796\n",
            "Epoch 4/100\n",
            "704/704 [==============================] - 2s 3ms/step - loss: 0.0034 - accuracy: 0.6900\n",
            "Epoch 5/100\n",
            "704/704 [==============================] - 2s 3ms/step - loss: 0.0032 - accuracy: 0.6933\n",
            "Epoch 6/100\n",
            "704/704 [==============================] - 2s 3ms/step - loss: 0.0030 - accuracy: 0.7000\n",
            "Epoch 7/100\n",
            "704/704 [==============================] - 2s 3ms/step - loss: 0.0029 - accuracy: 0.7064\n",
            "Epoch 8/100\n",
            "704/704 [==============================] - 2s 3ms/step - loss: 0.0028 - accuracy: 0.7114\n",
            "Epoch 9/100\n",
            "704/704 [==============================] - 2s 3ms/step - loss: 0.0028 - accuracy: 0.7164\n",
            "Epoch 10/100\n",
            "704/704 [==============================] - 2s 3ms/step - loss: 0.0028 - accuracy: 0.7181\n",
            "Epoch 11/100\n",
            "704/704 [==============================] - 2s 3ms/step - loss: 0.0027 - accuracy: 0.7204\n",
            "Epoch 12/100\n",
            "704/704 [==============================] - 2s 3ms/step - loss: 0.0027 - accuracy: 0.7219\n",
            "Epoch 13/100\n",
            "704/704 [==============================] - 2s 3ms/step - loss: 0.0027 - accuracy: 0.7212\n",
            "Epoch 14/100\n",
            "704/704 [==============================] - 2s 3ms/step - loss: 0.0027 - accuracy: 0.7239\n",
            "Epoch 15/100\n",
            "704/704 [==============================] - 2s 3ms/step - loss: 0.0027 - accuracy: 0.7254\n",
            "Epoch 16/100\n",
            "704/704 [==============================] - 2s 3ms/step - loss: 0.0026 - accuracy: 0.7266\n",
            "Epoch 17/100\n",
            "704/704 [==============================] - 2s 3ms/step - loss: 0.0026 - accuracy: 0.7271\n",
            "Epoch 18/100\n",
            "704/704 [==============================] - 2s 3ms/step - loss: 0.0026 - accuracy: 0.7277\n",
            "Epoch 19/100\n",
            "704/704 [==============================] - 2s 3ms/step - loss: 0.0026 - accuracy: 0.7294\n",
            "Epoch 20/100\n",
            "704/704 [==============================] - 2s 3ms/step - loss: 0.0026 - accuracy: 0.7316\n",
            "Epoch 21/100\n",
            "704/704 [==============================] - 2s 3ms/step - loss: 0.0026 - accuracy: 0.7288\n",
            "Epoch 22/100\n",
            "704/704 [==============================] - 2s 3ms/step - loss: 0.0026 - accuracy: 0.7328\n",
            "Epoch 23/100\n",
            "704/704 [==============================] - 2s 3ms/step - loss: 0.0026 - accuracy: 0.7332\n",
            "Epoch 24/100\n",
            "704/704 [==============================] - 2s 3ms/step - loss: 0.0025 - accuracy: 0.7329\n",
            "Epoch 25/100\n",
            "704/704 [==============================] - 2s 3ms/step - loss: 0.0025 - accuracy: 0.7325\n",
            "Epoch 26/100\n",
            "704/704 [==============================] - 2s 3ms/step - loss: 0.0025 - accuracy: 0.7335\n",
            "Epoch 27/100\n",
            "704/704 [==============================] - 2s 3ms/step - loss: 0.0025 - accuracy: 0.7328\n",
            "Epoch 28/100\n",
            "704/704 [==============================] - 2s 3ms/step - loss: 0.0025 - accuracy: 0.7328\n",
            "Epoch 29/100\n",
            "704/704 [==============================] - 2s 3ms/step - loss: 0.0025 - accuracy: 0.7329\n",
            "Epoch 30/100\n",
            "704/704 [==============================] - 2s 3ms/step - loss: 0.0025 - accuracy: 0.7321\n",
            "Epoch 31/100\n",
            "704/704 [==============================] - 2s 3ms/step - loss: 0.0025 - accuracy: 0.7364\n",
            "Epoch 32/100\n",
            "704/704 [==============================] - 2s 3ms/step - loss: 0.0025 - accuracy: 0.7367\n",
            "Epoch 33/100\n",
            "704/704 [==============================] - 2s 3ms/step - loss: 0.0025 - accuracy: 0.7357\n",
            "Epoch 34/100\n",
            "704/704 [==============================] - 2s 3ms/step - loss: 0.0025 - accuracy: 0.7358\n",
            "Epoch 35/100\n",
            "704/704 [==============================] - 2s 3ms/step - loss: 0.0025 - accuracy: 0.7354\n",
            "Epoch 36/100\n",
            "704/704 [==============================] - 2s 3ms/step - loss: 0.0025 - accuracy: 0.7360\n",
            "Epoch 37/100\n",
            "704/704 [==============================] - 2s 3ms/step - loss: 0.0025 - accuracy: 0.7353\n",
            "Epoch 38/100\n",
            "704/704 [==============================] - 2s 3ms/step - loss: 0.0025 - accuracy: 0.7354\n",
            "Epoch 39/100\n",
            "704/704 [==============================] - 2s 3ms/step - loss: 0.0025 - accuracy: 0.7348\n",
            "Epoch 40/100\n",
            "704/704 [==============================] - 2s 3ms/step - loss: 0.0025 - accuracy: 0.7371\n",
            "Epoch 41/100\n",
            "704/704 [==============================] - 2s 3ms/step - loss: 0.0025 - accuracy: 0.7386\n",
            "Epoch 42/100\n",
            "704/704 [==============================] - 2s 3ms/step - loss: 0.0025 - accuracy: 0.7368\n",
            "Epoch 43/100\n",
            "704/704 [==============================] - 2s 3ms/step - loss: 0.0025 - accuracy: 0.7372\n",
            "Epoch 44/100\n",
            "704/704 [==============================] - 2s 3ms/step - loss: 0.0025 - accuracy: 0.7380\n",
            "Epoch 45/100\n",
            "704/704 [==============================] - 2s 3ms/step - loss: 0.0024 - accuracy: 0.7386\n",
            "Epoch 46/100\n",
            "704/704 [==============================] - 2s 3ms/step - loss: 0.0025 - accuracy: 0.7382\n",
            "Epoch 47/100\n",
            "704/704 [==============================] - 2s 3ms/step - loss: 0.0024 - accuracy: 0.7373\n",
            "Epoch 48/100\n",
            "704/704 [==============================] - 2s 3ms/step - loss: 0.0024 - accuracy: 0.7381\n",
            "Epoch 49/100\n",
            "704/704 [==============================] - 2s 3ms/step - loss: 0.0024 - accuracy: 0.7390\n",
            "Epoch 50/100\n",
            "704/704 [==============================] - 2s 3ms/step - loss: 0.0024 - accuracy: 0.7396\n",
            "Epoch 51/100\n",
            "704/704 [==============================] - 2s 3ms/step - loss: 0.0024 - accuracy: 0.7372\n",
            "Epoch 52/100\n",
            "704/704 [==============================] - 2s 3ms/step - loss: 0.0024 - accuracy: 0.7409\n",
            "Epoch 53/100\n",
            "704/704 [==============================] - 2s 3ms/step - loss: 0.0024 - accuracy: 0.7388\n",
            "Epoch 54/100\n",
            "704/704 [==============================] - 2s 3ms/step - loss: 0.0024 - accuracy: 0.7402\n",
            "Epoch 55/100\n",
            "704/704 [==============================] - 2s 3ms/step - loss: 0.0024 - accuracy: 0.7394\n",
            "Epoch 56/100\n",
            "704/704 [==============================] - 2s 3ms/step - loss: 0.0024 - accuracy: 0.7370\n",
            "Epoch 57/100\n",
            "704/704 [==============================] - 2s 3ms/step - loss: 0.0024 - accuracy: 0.7397\n",
            "Epoch 58/100\n",
            "704/704 [==============================] - 2s 3ms/step - loss: 0.0024 - accuracy: 0.7396\n",
            "Epoch 59/100\n",
            "704/704 [==============================] - 2s 3ms/step - loss: 0.0024 - accuracy: 0.7404\n",
            "Epoch 60/100\n",
            "704/704 [==============================] - 3s 4ms/step - loss: 0.0024 - accuracy: 0.7407\n",
            "Epoch 61/100\n",
            "704/704 [==============================] - 3s 4ms/step - loss: 0.0024 - accuracy: 0.7402\n",
            "Epoch 62/100\n",
            "704/704 [==============================] - 2s 3ms/step - loss: 0.0024 - accuracy: 0.7412\n",
            "Epoch 63/100\n",
            "704/704 [==============================] - 2s 3ms/step - loss: 0.0024 - accuracy: 0.7412\n",
            "Epoch 64/100\n",
            "704/704 [==============================] - 2s 3ms/step - loss: 0.0024 - accuracy: 0.7411\n",
            "Epoch 65/100\n",
            "704/704 [==============================] - 2s 3ms/step - loss: 0.0024 - accuracy: 0.7409\n",
            "Epoch 66/100\n",
            "704/704 [==============================] - 2s 3ms/step - loss: 0.0024 - accuracy: 0.7425\n",
            "Epoch 67/100\n",
            "704/704 [==============================] - 2s 3ms/step - loss: 0.0024 - accuracy: 0.7420\n",
            "Epoch 68/100\n",
            "704/704 [==============================] - 2s 3ms/step - loss: 0.0024 - accuracy: 0.7416\n",
            "Epoch 69/100\n",
            "704/704 [==============================] - 2s 3ms/step - loss: 0.0024 - accuracy: 0.7402\n",
            "Epoch 70/100\n",
            "704/704 [==============================] - 2s 3ms/step - loss: 0.0024 - accuracy: 0.7416\n",
            "Epoch 71/100\n",
            "704/704 [==============================] - 2s 4ms/step - loss: 0.0024 - accuracy: 0.7427\n",
            "Epoch 72/100\n",
            "704/704 [==============================] - 3s 4ms/step - loss: 0.0024 - accuracy: 0.7436\n",
            "Epoch 73/100\n",
            "704/704 [==============================] - 3s 4ms/step - loss: 0.0024 - accuracy: 0.7413\n",
            "Epoch 74/100\n",
            "704/704 [==============================] - 3s 4ms/step - loss: 0.0024 - accuracy: 0.7420\n",
            "Epoch 75/100\n",
            "704/704 [==============================] - 2s 3ms/step - loss: 0.0024 - accuracy: 0.7416\n",
            "Epoch 76/100\n",
            "704/704 [==============================] - 2s 3ms/step - loss: 0.0024 - accuracy: 0.7425\n",
            "Epoch 77/100\n",
            "704/704 [==============================] - 2s 3ms/step - loss: 0.0024 - accuracy: 0.7416\n",
            "Epoch 78/100\n",
            "704/704 [==============================] - 2s 3ms/step - loss: 0.0024 - accuracy: 0.7413\n",
            "Epoch 79/100\n",
            "704/704 [==============================] - 2s 3ms/step - loss: 0.0024 - accuracy: 0.7435\n",
            "Epoch 80/100\n",
            "704/704 [==============================] - 2s 3ms/step - loss: 0.0023 - accuracy: 0.7422\n",
            "Epoch 81/100\n",
            "704/704 [==============================] - 2s 3ms/step - loss: 0.0023 - accuracy: 0.7428\n",
            "Epoch 82/100\n",
            "704/704 [==============================] - 2s 3ms/step - loss: 0.0023 - accuracy: 0.7430\n",
            "Epoch 83/100\n",
            "704/704 [==============================] - 2s 3ms/step - loss: 0.0023 - accuracy: 0.7422\n",
            "Epoch 84/100\n",
            "704/704 [==============================] - 2s 3ms/step - loss: 0.0023 - accuracy: 0.7423\n",
            "Epoch 85/100\n",
            "704/704 [==============================] - 2s 3ms/step - loss: 0.0023 - accuracy: 0.7438\n",
            "Epoch 86/100\n",
            "704/704 [==============================] - 2s 3ms/step - loss: 0.0023 - accuracy: 0.7435\n",
            "Epoch 87/100\n",
            "704/704 [==============================] - 2s 3ms/step - loss: 0.0023 - accuracy: 0.7430\n",
            "Epoch 88/100\n",
            "704/704 [==============================] - 2s 3ms/step - loss: 0.0023 - accuracy: 0.7425\n",
            "Epoch 89/100\n",
            "704/704 [==============================] - 2s 3ms/step - loss: 0.0023 - accuracy: 0.7433\n",
            "Epoch 90/100\n",
            "704/704 [==============================] - 2s 3ms/step - loss: 0.0023 - accuracy: 0.7433\n",
            "Epoch 91/100\n",
            "704/704 [==============================] - 2s 3ms/step - loss: 0.0023 - accuracy: 0.7433\n",
            "Epoch 92/100\n",
            "704/704 [==============================] - 2s 3ms/step - loss: 0.0023 - accuracy: 0.7438\n",
            "Epoch 93/100\n",
            "704/704 [==============================] - 2s 3ms/step - loss: 0.0023 - accuracy: 0.7433\n",
            "Epoch 94/100\n",
            "704/704 [==============================] - 2s 3ms/step - loss: 0.0023 - accuracy: 0.7452\n",
            "Epoch 95/100\n",
            "704/704 [==============================] - 2s 3ms/step - loss: 0.0023 - accuracy: 0.7450\n",
            "Epoch 96/100\n",
            "704/704 [==============================] - 2s 3ms/step - loss: 0.0023 - accuracy: 0.7427\n",
            "Epoch 97/100\n",
            "704/704 [==============================] - 2s 3ms/step - loss: 0.0023 - accuracy: 0.7441\n",
            "Epoch 98/100\n",
            "704/704 [==============================] - 2s 3ms/step - loss: 0.0023 - accuracy: 0.7437\n",
            "Epoch 99/100\n",
            "704/704 [==============================] - 2s 3ms/step - loss: 0.0023 - accuracy: 0.7449\n",
            "Epoch 100/100\n",
            "704/704 [==============================] - 2s 3ms/step - loss: 0.0023 - accuracy: 0.7442\n",
            "Model: \"sequential_21\"\n",
            "_________________________________________________________________\n",
            "Layer (type)                 Output Shape              Param #   \n",
            "=================================================================\n",
            "dense_84 (Dense)             (None, 120)               7800      \n",
            "_________________________________________________________________\n",
            "dense_85 (Dense)             (None, 200)               24200     \n",
            "_________________________________________________________________\n",
            "dense_86 (Dense)             (None, 120)               24120     \n",
            "_________________________________________________________________\n",
            "dense_87 (Dense)             (None, 64)                7744      \n",
            "=================================================================\n",
            "Total params: 63,864\n",
            "Trainable params: 63,864\n",
            "Non-trainable params: 0\n",
            "_________________________________________________________________\n"
          ],
          "name": "stdout"
        },
        {
          "output_type": "execute_result",
          "data": {
            "text/plain": [
              "[<matplotlib.lines.Line2D at 0x7f7ee042eef0>]"
            ]
          },
          "metadata": {
            "tags": []
          },
          "execution_count": 149
        },
        {
          "output_type": "display_data",
          "data": {
            "image/png": "[encoded data removed]",
            "text/plain": [
              "<Figure size 720x288 with 2 Axes>"
            ]
          },
          "metadata": {
            "tags": [],
            "needs_background": "light"
          }
        }
      ]
    },
    {
      "cell_type": "code",
      "metadata": {
        "id": "61lSIZMkgInJ",
        "colab_type": "code",
        "colab": {}
      },
      "source": [
        "test_receivedRef =y_highResTest/np.sqrt(powerTest)\n",
        "test_receivedVectorRef= np.concatenate( (np.real(test_receivedRef),np.imag(test_receivedRef)), axis=1 )\n",
        "test_receivedVectorRef.shape\n",
        "\n",
        "test_hRef= test_h[:,:HighResCount]\n",
        "test_hRefVect= np.concatenate( (np.real(test_hRef),np.imag(test_hRef)), axis=1 )"
      ],
      "execution_count": 150,
      "outputs": []
    },
    {
      "cell_type": "code",
      "metadata": {
        "id": "7lri3pwNd4fg",
        "colab_type": "code",
        "colab": {
          "base_uri": "https://localhost:8080/",
          "height": 146
        },
        "outputId": "c14dfe71-9aad-4375-f0ea-a02b2c9f8830"
      },
      "source": [
        "for w in range(len(snrLinear)):\n",
        "  loss,acc=modelR.evaluate(test_receivedVectorRef[w*testCountperSNR:(w+1)*testCountperSNR,:],test_hRefVect[w*testCountperSNR:(w+1)*testCountperSNR,:]/3)\n"
      ],
      "execution_count": 151,
      "outputs": [
        {
          "output_type": "stream",
          "text": [
            "157/157 [==============================] - 0s 994us/step - loss: 0.0128 - accuracy: 0.3518\n",
            "157/157 [==============================] - 0s 931us/step - loss: 0.0043 - accuracy: 0.5648\n",
            "157/157 [==============================] - 0s 925us/step - loss: 0.0015 - accuracy: 0.7242\n",
            "157/157 [==============================] - 0s 999us/step - loss: 6.9588e-04 - accuracy: 0.8134\n",
            "157/157 [==============================] - 0s 1ms/step - loss: 4.5113e-04 - accuracy: 0.8576\n",
            "157/157 [==============================] - 0s 972us/step - loss: 3.6217e-04 - accuracy: 0.8742\n",
            "157/157 [==============================] - 0s 1ms/step - loss: 3.4645e-04 - accuracy: 0.8676\n"
          ],
          "name": "stdout"
        }
      ]
    },
    {
      "cell_type": "markdown",
      "metadata": {
        "id": "qcT0ibBMjGyH",
        "colab_type": "text"
      },
      "source": [
        "MP DNN\n",
        "\n",
        "Received Signals at low Resolution antennas"
      ]
    },
    {
      "cell_type": "code",
      "metadata": {
        "id": "613ysQOcjIHt",
        "colab_type": "code",
        "colab": {
          "base_uri": "https://localhost:8080/",
          "height": 35
        },
        "outputId": "7117a869-421d-47a7-bdf6-877f1d5e5b2a"
      },
      "source": [
        "train_hMP = train_h[:,HighResCount:]\n",
        "train_hMPVector = np.concatenate((np.real(train_hMP),np.imag(train_hMP)),axis=1)\n",
        "print(train_h.shape,train_hMP.shape,train_hMPVector.shape)"
      ],
      "execution_count": 152,
      "outputs": [
        {
          "output_type": "stream",
          "text": [
            "(90000, 64) (90000, 32) (90000, 64)\n"
          ],
          "name": "stdout"
        }
      ]
    },
    {
      "cell_type": "code",
      "metadata": {
        "id": "nbwstFMtj1Vg",
        "colab_type": "code",
        "colab": {
          "base_uri": "https://localhost:8080/",
          "height": 1000
        },
        "outputId": "42fbfe17-031e-497c-d3aa-b8d0ae60e135"
      },
      "source": [
        "def myModelMP():\n",
        "  model = keras.models.Sequential([\n",
        "      keras.layers.Dense(120, activation='relu',input_shape=(64,)),\n",
        "      keras.layers.Dense(200, activation='relu'),\n",
        "      #keras.layers.Dense(400, activation=tf.nn.relu),\n",
        "      #keras.layers.Dense(400, activation=tf.nn.relu),      \n",
        "      keras.layers.Dense(120, activation='relu'),\n",
        "      keras.layers.Dense(64, activation='tanh'),\n",
        "  ])\n",
        "  model.compile(optimizer=keras.optimizers.Adam(lr=0.001),loss='mse',metrics='accuracy')\n",
        "  return model\n",
        "\n",
        "modelMP=myModelMP()\n",
        "logMP=modelMP.fit(trainreceivedRefinement,train_hMPVector/3,verbose=1,epochs=100, batch_size=128)\n",
        "fig,axes= plt.subplots(1,2,figsize=(10,4))\n",
        "axes[0].plot(logMP.history['accuracy'])\n",
        "axes[1].plot(logMP.history['loss'])"
      ],
      "execution_count": 153,
      "outputs": [
        {
          "output_type": "stream",
          "text": [
            "Epoch 1/100\n",
            "704/704 [==============================] - 2s 3ms/step - loss: 0.0090 - accuracy: 0.5319\n",
            "Epoch 2/100\n",
            "704/704 [==============================] - 2s 3ms/step - loss: 0.0041 - accuracy: 0.6589\n",
            "Epoch 3/100\n",
            "704/704 [==============================] - 2s 3ms/step - loss: 0.0037 - accuracy: 0.6769\n",
            "Epoch 4/100\n",
            "704/704 [==============================] - 2s 3ms/step - loss: 0.0035 - accuracy: 0.6875\n",
            "Epoch 5/100\n",
            "704/704 [==============================] - 2s 3ms/step - loss: 0.0033 - accuracy: 0.6945\n",
            "Epoch 6/100\n",
            "704/704 [==============================] - 2s 3ms/step - loss: 0.0031 - accuracy: 0.7003\n",
            "Epoch 7/100\n",
            "704/704 [==============================] - 2s 3ms/step - loss: 0.0030 - accuracy: 0.7075\n",
            "Epoch 8/100\n",
            "704/704 [==============================] - 2s 3ms/step - loss: 0.0029 - accuracy: 0.7144\n",
            "Epoch 9/100\n",
            "704/704 [==============================] - 2s 3ms/step - loss: 0.0029 - accuracy: 0.7153\n",
            "Epoch 10/100\n",
            "704/704 [==============================] - 2s 3ms/step - loss: 0.0028 - accuracy: 0.7210\n",
            "Epoch 11/100\n",
            "704/704 [==============================] - 2s 3ms/step - loss: 0.0028 - accuracy: 0.7224\n",
            "Epoch 12/100\n",
            "704/704 [==============================] - 2s 3ms/step - loss: 0.0028 - accuracy: 0.7218\n",
            "Epoch 13/100\n",
            "704/704 [==============================] - 2s 3ms/step - loss: 0.0027 - accuracy: 0.7225\n",
            "Epoch 14/100\n",
            "704/704 [==============================] - 2s 3ms/step - loss: 0.0027 - accuracy: 0.7243\n",
            "Epoch 15/100\n",
            "704/704 [==============================] - 2s 3ms/step - loss: 0.0027 - accuracy: 0.7255\n",
            "Epoch 16/100\n",
            "704/704 [==============================] - 2s 3ms/step - loss: 0.0027 - accuracy: 0.7267\n",
            "Epoch 17/100\n",
            "704/704 [==============================] - 2s 3ms/step - loss: 0.0027 - accuracy: 0.7268\n",
            "Epoch 18/100\n",
            "704/704 [==============================] - 2s 3ms/step - loss: 0.0027 - accuracy: 0.7288\n",
            "Epoch 19/100\n",
            "704/704 [==============================] - 2s 3ms/step - loss: 0.0027 - accuracy: 0.7274\n",
            "Epoch 20/100\n",
            "704/704 [==============================] - 2s 3ms/step - loss: 0.0027 - accuracy: 0.7285\n",
            "Epoch 21/100\n",
            "704/704 [==============================] - 2s 3ms/step - loss: 0.0027 - accuracy: 0.7282\n",
            "Epoch 22/100\n",
            "704/704 [==============================] - 2s 3ms/step - loss: 0.0027 - accuracy: 0.7312\n",
            "Epoch 23/100\n",
            "704/704 [==============================] - 2s 3ms/step - loss: 0.0026 - accuracy: 0.7322\n",
            "Epoch 24/100\n",
            "704/704 [==============================] - 2s 3ms/step - loss: 0.0026 - accuracy: 0.7308\n",
            "Epoch 25/100\n",
            "704/704 [==============================] - 2s 3ms/step - loss: 0.0026 - accuracy: 0.7298\n",
            "Epoch 26/100\n",
            "704/704 [==============================] - 2s 3ms/step - loss: 0.0026 - accuracy: 0.7315\n",
            "Epoch 27/100\n",
            "704/704 [==============================] - 2s 3ms/step - loss: 0.0026 - accuracy: 0.7313\n",
            "Epoch 28/100\n",
            "704/704 [==============================] - 2s 3ms/step - loss: 0.0026 - accuracy: 0.7330\n",
            "Epoch 29/100\n",
            "704/704 [==============================] - 2s 3ms/step - loss: 0.0026 - accuracy: 0.7325\n",
            "Epoch 30/100\n",
            "704/704 [==============================] - 2s 3ms/step - loss: 0.0026 - accuracy: 0.7331\n",
            "Epoch 31/100\n",
            "704/704 [==============================] - 2s 3ms/step - loss: 0.0026 - accuracy: 0.7341\n",
            "Epoch 32/100\n",
            "704/704 [==============================] - 2s 3ms/step - loss: 0.0026 - accuracy: 0.7330\n",
            "Epoch 33/100\n",
            "704/704 [==============================] - 3s 4ms/step - loss: 0.0026 - accuracy: 0.7338\n",
            "Epoch 34/100\n",
            "704/704 [==============================] - 4s 6ms/step - loss: 0.0026 - accuracy: 0.7346\n",
            "Epoch 35/100\n",
            "704/704 [==============================] - 3s 5ms/step - loss: 0.0026 - accuracy: 0.7327\n",
            "Epoch 36/100\n",
            "704/704 [==============================] - 2s 3ms/step - loss: 0.0026 - accuracy: 0.7338\n",
            "Epoch 37/100\n",
            "704/704 [==============================] - 2s 3ms/step - loss: 0.0026 - accuracy: 0.7346\n",
            "Epoch 38/100\n",
            "704/704 [==============================] - 2s 3ms/step - loss: 0.0026 - accuracy: 0.7339\n",
            "Epoch 39/100\n",
            "704/704 [==============================] - 2s 3ms/step - loss: 0.0026 - accuracy: 0.7343\n",
            "Epoch 40/100\n",
            "704/704 [==============================] - 2s 3ms/step - loss: 0.0025 - accuracy: 0.7356\n",
            "Epoch 41/100\n",
            "704/704 [==============================] - 2s 3ms/step - loss: 0.0025 - accuracy: 0.7357\n",
            "Epoch 42/100\n",
            "704/704 [==============================] - 2s 3ms/step - loss: 0.0025 - accuracy: 0.7358\n",
            "Epoch 43/100\n",
            "704/704 [==============================] - 2s 3ms/step - loss: 0.0025 - accuracy: 0.7355\n",
            "Epoch 44/100\n",
            "704/704 [==============================] - 2s 3ms/step - loss: 0.0025 - accuracy: 0.7367\n",
            "Epoch 45/100\n",
            "704/704 [==============================] - 2s 3ms/step - loss: 0.0025 - accuracy: 0.7355\n",
            "Epoch 46/100\n",
            "704/704 [==============================] - 2s 3ms/step - loss: 0.0025 - accuracy: 0.7346\n",
            "Epoch 47/100\n",
            "704/704 [==============================] - 2s 3ms/step - loss: 0.0025 - accuracy: 0.7358\n",
            "Epoch 48/100\n",
            "704/704 [==============================] - 2s 3ms/step - loss: 0.0025 - accuracy: 0.7373\n",
            "Epoch 49/100\n",
            "704/704 [==============================] - 2s 3ms/step - loss: 0.0025 - accuracy: 0.7385\n",
            "Epoch 50/100\n",
            "704/704 [==============================] - 2s 3ms/step - loss: 0.0025 - accuracy: 0.7384\n",
            "Epoch 51/100\n",
            "704/704 [==============================] - 2s 3ms/step - loss: 0.0025 - accuracy: 0.7379\n",
            "Epoch 52/100\n",
            "704/704 [==============================] - 2s 3ms/step - loss: 0.0025 - accuracy: 0.7383\n",
            "Epoch 53/100\n",
            "704/704 [==============================] - 2s 3ms/step - loss: 0.0025 - accuracy: 0.7373\n",
            "Epoch 54/100\n",
            "704/704 [==============================] - 2s 3ms/step - loss: 0.0025 - accuracy: 0.7361\n",
            "Epoch 55/100\n",
            "704/704 [==============================] - 2s 3ms/step - loss: 0.0025 - accuracy: 0.7377\n",
            "Epoch 56/100\n",
            "704/704 [==============================] - 2s 3ms/step - loss: 0.0025 - accuracy: 0.7390\n",
            "Epoch 57/100\n",
            "704/704 [==============================] - 2s 3ms/step - loss: 0.0025 - accuracy: 0.7378\n",
            "Epoch 58/100\n",
            "704/704 [==============================] - 2s 3ms/step - loss: 0.0025 - accuracy: 0.7384\n",
            "Epoch 59/100\n",
            "704/704 [==============================] - 2s 3ms/step - loss: 0.0025 - accuracy: 0.7384\n",
            "Epoch 60/100\n",
            "704/704 [==============================] - 2s 3ms/step - loss: 0.0025 - accuracy: 0.7382\n",
            "Epoch 61/100\n",
            "704/704 [==============================] - 2s 3ms/step - loss: 0.0025 - accuracy: 0.7386\n",
            "Epoch 62/100\n",
            "704/704 [==============================] - 2s 3ms/step - loss: 0.0025 - accuracy: 0.7389\n",
            "Epoch 63/100\n",
            "704/704 [==============================] - 2s 3ms/step - loss: 0.0024 - accuracy: 0.7394\n",
            "Epoch 64/100\n",
            "704/704 [==============================] - 2s 3ms/step - loss: 0.0024 - accuracy: 0.7391\n",
            "Epoch 65/100\n",
            "704/704 [==============================] - 2s 3ms/step - loss: 0.0024 - accuracy: 0.7414\n",
            "Epoch 66/100\n",
            "704/704 [==============================] - 2s 3ms/step - loss: 0.0024 - accuracy: 0.7393\n",
            "Epoch 67/100\n",
            "704/704 [==============================] - 2s 3ms/step - loss: 0.0024 - accuracy: 0.7388\n",
            "Epoch 68/100\n",
            "704/704 [==============================] - 2s 3ms/step - loss: 0.0024 - accuracy: 0.7396\n",
            "Epoch 69/100\n",
            "704/704 [==============================] - 2s 3ms/step - loss: 0.0024 - accuracy: 0.7404\n",
            "Epoch 70/100\n",
            "704/704 [==============================] - 2s 3ms/step - loss: 0.0024 - accuracy: 0.7385\n",
            "Epoch 71/100\n",
            "704/704 [==============================] - 2s 3ms/step - loss: 0.0024 - accuracy: 0.7401\n",
            "Epoch 72/100\n",
            "704/704 [==============================] - 2s 3ms/step - loss: 0.0024 - accuracy: 0.7403\n",
            "Epoch 73/100\n",
            "704/704 [==============================] - 2s 3ms/step - loss: 0.0024 - accuracy: 0.7407\n",
            "Epoch 74/100\n",
            "704/704 [==============================] - 2s 3ms/step - loss: 0.0024 - accuracy: 0.7399\n",
            "Epoch 75/100\n",
            "704/704 [==============================] - 2s 3ms/step - loss: 0.0024 - accuracy: 0.7402\n",
            "Epoch 76/100\n",
            "704/704 [==============================] - 2s 3ms/step - loss: 0.0024 - accuracy: 0.7397\n",
            "Epoch 77/100\n",
            "704/704 [==============================] - 2s 3ms/step - loss: 0.0024 - accuracy: 0.7400\n",
            "Epoch 78/100\n",
            "704/704 [==============================] - 2s 3ms/step - loss: 0.0024 - accuracy: 0.7406\n",
            "Epoch 79/100\n",
            "704/704 [==============================] - 2s 3ms/step - loss: 0.0024 - accuracy: 0.7415\n",
            "Epoch 80/100\n",
            "704/704 [==============================] - 2s 3ms/step - loss: 0.0024 - accuracy: 0.7406\n",
            "Epoch 81/100\n",
            "704/704 [==============================] - 2s 3ms/step - loss: 0.0024 - accuracy: 0.7400\n",
            "Epoch 82/100\n",
            "704/704 [==============================] - 2s 3ms/step - loss: 0.0024 - accuracy: 0.7424\n",
            "Epoch 83/100\n",
            "704/704 [==============================] - 2s 3ms/step - loss: 0.0024 - accuracy: 0.7421\n",
            "Epoch 84/100\n",
            "704/704 [==============================] - 2s 3ms/step - loss: 0.0024 - accuracy: 0.7395\n",
            "Epoch 85/100\n",
            "704/704 [==============================] - 2s 3ms/step - loss: 0.0024 - accuracy: 0.7413\n",
            "Epoch 86/100\n",
            "704/704 [==============================] - 2s 3ms/step - loss: 0.0024 - accuracy: 0.7413\n",
            "Epoch 87/100\n",
            "704/704 [==============================] - 2s 3ms/step - loss: 0.0024 - accuracy: 0.7410\n",
            "Epoch 88/100\n",
            "704/704 [==============================] - 2s 3ms/step - loss: 0.0024 - accuracy: 0.7414\n",
            "Epoch 89/100\n",
            "704/704 [==============================] - 2s 3ms/step - loss: 0.0024 - accuracy: 0.7417\n",
            "Epoch 90/100\n",
            "704/704 [==============================] - 2s 3ms/step - loss: 0.0024 - accuracy: 0.7421\n",
            "Epoch 91/100\n",
            "704/704 [==============================] - 2s 3ms/step - loss: 0.0024 - accuracy: 0.7430\n",
            "Epoch 92/100\n",
            "704/704 [==============================] - 2s 3ms/step - loss: 0.0024 - accuracy: 0.7411\n",
            "Epoch 93/100\n",
            "704/704 [==============================] - 2s 4ms/step - loss: 0.0024 - accuracy: 0.7413\n",
            "Epoch 94/100\n",
            "704/704 [==============================] - 2s 3ms/step - loss: 0.0024 - accuracy: 0.7407\n",
            "Epoch 95/100\n",
            "704/704 [==============================] - 2s 3ms/step - loss: 0.0024 - accuracy: 0.7425\n",
            "Epoch 96/100\n",
            "704/704 [==============================] - 2s 3ms/step - loss: 0.0024 - accuracy: 0.7407\n",
            "Epoch 97/100\n",
            "704/704 [==============================] - 2s 3ms/step - loss: 0.0024 - accuracy: 0.7399\n",
            "Epoch 98/100\n",
            "704/704 [==============================] - 2s 3ms/step - loss: 0.0024 - accuracy: 0.7426\n",
            "Epoch 99/100\n",
            "704/704 [==============================] - 2s 3ms/step - loss: 0.0024 - accuracy: 0.7414\n",
            "Epoch 100/100\n",
            "704/704 [==============================] - 2s 3ms/step - loss: 0.0024 - accuracy: 0.7421\n"
          ],
          "name": "stdout"
        },
        {
          "output_type": "execute_result",
          "data": {
            "text/plain": [
              "[<matplotlib.lines.Line2D at 0x7f7ee6502c50>]"
            ]
          },
          "metadata": {
            "tags": []
          },
          "execution_count": 153
        },
        {
          "output_type": "display_data",
          "data": {
            "image/png": "[encoded data removed]",
            "text/plain": [
              "<Figure size 720x288 with 2 Axes>"
            ]
          },
          "metadata": {
            "tags": [],
            "needs_background": "light"
          }
        }
      ]
    },
    {
      "cell_type": "code",
      "metadata": {
        "id": "NhyT3sANkIzg",
        "colab_type": "code",
        "colab": {}
      },
      "source": [
        "test_receivedRef =y_highResTest/np.sqrt(powerTest)\n",
        "test_receivedVectorRef= np.concatenate( (np.real(test_receivedRef),np.imag(test_receivedRef)), axis=1 )\n",
        "test_receivedVectorRef.shape\n",
        "\n",
        "test_hMP= test_h[:,HighResCount:]\n",
        "test_hMPVect= np.concatenate( (np.real(test_hMP),np.imag(test_hMP)), axis=1 )"
      ],
      "execution_count": 154,
      "outputs": []
    },
    {
      "cell_type": "code",
      "metadata": {
        "id": "l05tQ10PlbNg",
        "colab_type": "code",
        "colab": {
          "base_uri": "https://localhost:8080/",
          "height": 146
        },
        "outputId": "d3c4bd7e-6ccf-4e12-cecc-85e0fd7779ba"
      },
      "source": [
        "for w in range(len(snrLinear)):\n",
        "  loss,acc=modelMP.evaluate(test_receivedVectorRef[w*testCountperSNR:(w+1)*testCountperSNR,:],test_hMPVect[w*testCountperSNR:(w+1)*testCountperSNR,:]/3)\n"
      ],
      "execution_count": 155,
      "outputs": [
        {
          "output_type": "stream",
          "text": [
            "157/157 [==============================] - 0s 1ms/step - loss: 0.0136 - accuracy: 0.3590\n",
            "157/157 [==============================] - 0s 952us/step - loss: 0.0045 - accuracy: 0.5658\n",
            "157/157 [==============================] - 0s 1ms/step - loss: 0.0016 - accuracy: 0.7296\n",
            "157/157 [==============================] - 0s 954us/step - loss: 6.8690e-04 - accuracy: 0.8196\n",
            "157/157 [==============================] - 0s 1ms/step - loss: 4.3495e-04 - accuracy: 0.8598\n",
            "157/157 [==============================] - 0s 1ms/step - loss: 3.4313e-04 - accuracy: 0.8774\n",
            "157/157 [==============================] - 0s 997us/step - loss: 3.2971e-04 - accuracy: 0.8788\n"
          ],
          "name": "stdout"
        }
      ]
    },
    {
      "cell_type": "code",
      "metadata": {
        "id": "WommZCsjlqCN",
        "colab_type": "code",
        "colab": {
          "base_uri": "https://localhost:8080/",
          "height": 72
        },
        "outputId": "67fb48a8-f8a7-4697-b3db-4181b2f55a6e"
      },
      "source": [
        "h_predict_HighRes=modelR.predict(test_receivedVectorRef)\n",
        "h_retain_HighRes=3*(h_predict_HighRes[:,:int(h_predict_HighRes.shape[1]/2)]+1j*h_predict_HighRes[:,int(h_predict_HighRes.shape[1]/2):])\n",
        "h_predict_LowRes=modelMP.predict(test_receivedVectorRef)\n",
        "h_retain_LowRes=3*(h_predict_LowRes[:,:int(h_predict_LowRes.shape[1]/2)]+1j*h_predict_LowRes[:,int(h_predict_LowRes.shape[1]/2):])\n",
        "\n",
        "h_predictSIP=np.concatenate((h_retain_HighRes,h_retain_LowRes),axis=1)\n",
        "print(h_predict_HighRes.shape,h_predict_LowRes.shape,h_retain_HighRes.shape,h_retain_LowRes.shape,h_predictSIP.shape)\n",
        "\n",
        "\n",
        "diff=(test_h-h_predictSIP)\n",
        "normsq_test=np.square(np.linalg.norm(test_h,axis=1))\n",
        "normsq_diff=np.square(np.linalg.norm(diff,axis=1))\n",
        "error=normsq_diff/normsq_test\n",
        "nmse=np.zeros(len(snrLinear),)\n",
        "for w in range(len(snrLinear)):\n",
        "  nmse[w]= (1/testCountperSNR) * np.sum(error[w*testCountperSNR:(w+1)*testCountperSNR])\n",
        "\n",
        "print(nmse)\n"
      ],
      "execution_count": 156,
      "outputs": [
        {
          "output_type": "stream",
          "text": [
            "(35000, 64) (35000, 64) (35000, 32) (35000, 32) (35000, 64)\n",
            "[0.29209501 0.0982548  0.03362094 0.01400385 0.00808711 0.00624131\n",
            " 0.00578828]\n"
          ],
          "name": "stdout"
        }
      ]
    },
    {
      "cell_type": "code",
      "metadata": {
        "id": "FjjIt22g5VtP",
        "colab_type": "code",
        "colab": {
          "base_uri": "https://localhost:8080/",
          "height": 72
        },
        "outputId": "36cd6eb8-6715-4077-a1a0-f44388b7784c"
      },
      "source": [
        "h_predict_HighRes=modelR.predict(test_receivedVectorRef)\n",
        "h_retain_HighRes=3*(h_predict_HighRes[:,:int(h_predict_HighRes.shape[1]/2)]+1j*h_predict_HighRes[:,int(h_predict_HighRes.shape[1]/2):])\n",
        "h_predict_LowRes=modelMP.predict(test_receivedVectorRef)\n",
        "h_retain_LowRes=3*(h_predict_LowRes[:,:int(h_predict_LowRes.shape[1]/2)]+1j*h_predict_LowRes[:,int(h_predict_LowRes.shape[1]/2):])\n",
        "\n",
        "h_predictSIP=np.concatenate((h_retain_HighRes,h_retain_LowRes),axis=1)\n",
        "print(h_predict_HighRes.shape,h_predict_LowRes.shape,h_retain_HighRes.shape,h_retain_LowRes.shape,h_predictSIP.shape)\n",
        "\n",
        "normsq_testHigh =  np.square(np.linalg.norm(test_h[:,:HighResCount],axis=1))\n",
        "diff_HighRes    =  test_h[:,:HighResCount]-h_retain_HighRes\n",
        "normsq_diffHigh =  np.square(np.linalg.norm(diff_HighRes,axis=1))\n",
        "errorHigh           =  normsq_diffHigh/normsq_testHigh\n",
        "\n",
        "\n",
        "\n",
        "normsq_testLow = np.square(np.linalg.norm(test_h[:,HighResCount:],axis=1))\n",
        "diff_LowRes=test_h[:,HighResCount:]-h_retain_LowRes\n",
        "normsq_diffLow =  np.square(np.linalg.norm(diff_LowRes,axis=1))\n",
        "errorLow           =  normsq_diffLow/normsq_testLow\n",
        "\n",
        "\n",
        "nmse=np.zeros(len(snrLinear),)\n",
        "for w in range(len(snrLinear)):\n",
        "  nmse[w]= (1/testCountperSNR) * np.sum(nn*errorHigh[w*testCountperSNR:(w+1)*testCountperSNR]+\n",
        "                                        (1-nn)*errorLow[w*testCountperSNR:(w+1)*testCountperSNR])\n",
        "\n",
        "print(nmse)\n"
      ],
      "execution_count": 157,
      "outputs": [
        {
          "output_type": "stream",
          "text": [
            "(35000, 64) (35000, 64) (35000, 32) (35000, 32) (35000, 64)\n",
            "[0.29279324 0.09850855 0.03369661 0.0140348  0.00810297 0.00624885\n",
            " 0.00579528]\n"
          ],
          "name": "stdout"
        }
      ]
    },
    {
      "cell_type": "code",
      "metadata": {
        "id": "KOuwirQI8FDI",
        "colab_type": "code",
        "colab": {}
      },
      "source": [
        ""
      ],
      "execution_count": 157,
      "outputs": []
    }
  ]
}