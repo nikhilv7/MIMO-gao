{
  "nbformat": 4,
  "nbformat_minor": 0,
  "metadata": {
    "colab": {
      "name": "Untitled0.ipynb",
      "provenance": [],
      "authorship_tag": "ABX9TyMnAP/1E1ngvBUF6b2WrAKK",
      "include_colab_link": true
    },
    "kernelspec": {
      "name": "python3",
      "display_name": "Python 3"
    }
  },
  "cells": [
    {
      "cell_type": "markdown",
      "metadata": {
        "id": "view-in-github",
        "colab_type": "text"
      },
      "source": [
        "<a href=\"https://colab.research.google.com/github/nikhilv7/MIMO-gao/blob/master/mimogao.ipynb\" target=\"_parent\"><img src=\"https://colab.research.google.com/assets/colab-badge.svg\" alt=\"Open In Colab\"/></a>"
      ]
    },
    {
      "cell_type": "code",
      "metadata": {
        "id": "77ObVzvn6RIf",
        "colab_type": "code",
        "colab": {}
      },
      "source": [
        "import tensorflow\n",
        "from tensorflow import keras\n",
        "import numpy as np\n",
        "import random\n",
        "import math"
      ],
      "execution_count": 1,
      "outputs": []
    },
    {
      "cell_type": "code",
      "metadata": {
        "id": "DbKqHO7u6W70",
        "colab_type": "code",
        "colab": {}
      },
      "source": [
        "x = list(range(0, 20))\n",
        "pi = np.pi\n",
        "y = (np.random.normal(0, 1, [64, 1]) + 1j * np.random.normal(0, 1, [64, 1])) / np.sqrt(2)\n",
        "\n",
        "phi = np.multiply((2 * pi / 20), random.choices(x, k=8))\n",
        "phi.reshape([1, 8])\n",
        "aphil=np.zeros([64,8],dtype=complex)\n",
        "for i in range(0, 64):\n",
        "    aphil[i] = np.exp(-1j * 2 * pi * np.sin(phi) * i)\n",
        "\n",
        "h=np.sum(y*aphil,axis=1)"
      ],
      "execution_count": 2,
      "outputs": []
    },
    {
      "cell_type": "code",
      "metadata": {
        "id": "chjiQEdO6arm",
        "colab_type": "code",
        "colab": {
          "base_uri": "https://localhost:8080/",
          "height": 428
        },
        "outputId": "b82afe20-0231-4326-8755-d9c38b4d1544"
      },
      "source": [
        ""
      ],
      "execution_count": 3,
      "outputs": [
        {
          "output_type": "stream",
          "text": [
            "[ 9.38668992-3.77194143j  0.49565787+0.60013692j  0.90564801+1.92987156j\n",
            "  0.90961518+2.66581214j  0.19549773+1.27190498j  6.70350644+5.12961722j\n",
            "  0.13997246+0.44845268j  1.23315967-1.58555488j  4.46025045-0.22886742j\n",
            " -0.14022219-1.11108674j  5.52459985+0.94721458j -1.03690925-0.26732489j\n",
            "  2.48898281-1.84008468j -0.32649333-1.02803975j  1.82198546+2.32372761j\n",
            "  0.8697987 +3.80492072j -0.87721992-2.14696289j -4.98665969-4.97212141j\n",
            " -1.38044531+2.52114488j -0.48461388+1.79032071j -2.46045804+4.77981297j\n",
            "  0.64101176+4.94726073j -1.1613602 -2.51741817j -0.42806346-0.54436909j\n",
            " -0.34581204-0.14291204j  6.23709456+0.68860449j  1.95250277+2.6692384j\n",
            "  6.90298813+0.66778424j  2.66489444-0.76497286j -0.20901259+0.11312268j\n",
            "  0.82508865+1.42199903j  0.56899427-0.68883611j -0.88983384+0.09908668j\n",
            " -4.38416586+3.93459718j -0.94579968-0.70486361j  0.79224504+0.38279083j\n",
            "  7.30325911-4.65577183j -2.14666141-0.67553228j -0.50319265+1.22158423j\n",
            " -0.47933971+1.02682655j -1.10547665-0.46646888j -4.70534106-2.34511191j\n",
            "  0.846969  +0.24551072j  3.67202202-1.78582381j -0.39646485-1.44053307j\n",
            " -3.9422519 +2.7583339j  -2.60005128-0.13912309j -3.08384704+2.49324171j\n",
            " -0.75693674-1.89675903j  0.61060077+0.42345367j -4.1544814 +0.6318509j\n",
            "  0.02564793-2.43388366j -1.28151914-0.60323332j  3.89096547+1.54224716j\n",
            "  0.51651342+1.2278879j   3.68053817+4.00365343j  0.2545237 +0.9245655j\n",
            " -0.17183444+0.22784341j  6.60602307+7.67331083j  0.89281404-0.11252606j\n",
            "  0.83740724-1.46649318j -0.85197846-2.43326237j  2.02615859-0.35236163j\n",
            "  5.04455542+1.79028937j]\n"
          ],
          "name": "stdout"
        }
      ]
    },
    {
      "cell_type": "markdown",
      "metadata": {
        "id": "iy6djPlj6iDm",
        "colab_type": "text"
      },
      "source": [
        "ADC model\n",
        "\n",
        ">3 bit ADC\n",
        "\n"
      ]
    },
    {
      "cell_type": "code",
      "metadata": {
        "id": "vJOAhTQr6c9X",
        "colab_type": "code",
        "colab": {}
      },
      "source": [
        "n=0.5\n",
        "alpha=0.96546"
      ],
      "execution_count": 4,
      "outputs": []
    },
    {
      "cell_type": "code",
      "metadata": {
        "id": "Z-VUPLP17BJo",
        "colab_type": "code",
        "colab": {}
      },
      "source": [
        ""
      ],
      "execution_count": null,
      "outputs": []
    }
  ]
}