{
  "nbformat": 4,
  "nbformat_minor": 0,
  "metadata": {
    "colab": {
      "name": "mimogao.ipynb",
      "provenance": [],
      "collapsed_sections": [],
      "include_colab_link": true
    },
    "kernelspec": {
      "name": "python3",
      "display_name": "Python 3"
    }
  },
  "cells": [
    {
      "cell_type": "markdown",
      "metadata": {
        "id": "view-in-github",
        "colab_type": "text"
      },
      "source": [
        "<a href=\"https://colab.research.google.com/github/nikhilv7/MIMO-gao/blob/master/mimogao.ipynb\" target=\"_parent\"><img src=\"https://colab.research.google.com/assets/colab-badge.svg\" alt=\"Open In Colab\"/></a>"
      ]
    },
    {
      "cell_type": "code",
      "metadata": {
        "id": "77ObVzvn6RIf",
        "colab_type": "code",
        "colab": {}
      },
      "source": [
        "import tensorflow as tf\n",
        "from tensorflow import keras\n",
        "import numpy as np\n",
        "import sys\n",
        "np.set_printoptions(threshold=100000)\n",
        "import random\n",
        "import os"
      ],
      "execution_count": null,
      "outputs": []
    },
    {
      "cell_type": "markdown",
      "metadata": {
        "id": "Aox7wYABa9DU",
        "colab_type": "text"
      },
      "source": [
        "#Initialisation\n",
        "* h_gen is the Function for generating  Channel( Random Initialisation)"
      ]
    },
    {
      "cell_type": "code",
      "metadata": {
        "id": "_JMGnjTV240J",
        "colab_type": "code",
        "colab": {
          "base_uri": "https://localhost:8080/",
          "height": 36
        },
        "outputId": "6ace8bf9-17b8-413a-f607-7b1eb6c6a0b5"
      },
      "source": [
        "random.seed(21)\n",
        "\n",
        "x = list(range(0, 20))            #\n",
        "antennaCount=64  \n",
        "antennaList=np.arange(0,antennaCount)\n",
        "antennaList=antennaList.reshape(antennaCount,1)\n",
        "pi = np.pi\n",
        "trainingCount = 90000\n",
        "train_h=np.zeros([trainingCount,antennaCount],dtype=complex)\n",
        "validationCount = 14700\n",
        "val_h=np.zeros([validationCount,antennaCount],dtype=complex)\n",
        "testCount = 28000\n",
        "test_h=np.zeros([testCount,antennaCount],dtype=complex)\n",
        "tot_set = trainingCount + validationCount + testCount\n",
        "\n",
        "def h_gen():\n",
        "  propGain = (np.random.normal(0, 1, 8) + 1j * np.random.normal(0, 1, 8)) / np.sqrt(2)                  #Propagation Gain for Each Multipath Component (Unit Power) \n",
        "  phi = np.multiply((2 * pi / 20), random.choices(x, k=8))                                              #Randomly choosing Angle of arrival of different Multipath Components\n",
        "  phi=phi.reshape([1,8])\n",
        "  aphi=(1/np.sqrt(8))*np.exp((-1j*2*pi*np.sin(phi))*antennaList)                                        #Response Vector(Function of arrival angles) \n",
        "  channel=np.sum(aphi*propGain,axis=1)\n",
        "  return channel\n",
        "print(h_gen().shape)\n"
      ],
      "execution_count": null,
      "outputs": [
        {
          "output_type": "stream",
          "text": [
            "(64,)\n"
          ],
          "name": "stdout"
        }
      ]
    },
    {
      "cell_type": "markdown",
      "metadata": {
        "id": "1r3SOdlKbwO3",
        "colab_type": "text"
      },
      "source": [
        "Generating Channels for Training, Validation and Testing"
      ]
    },
    {
      "cell_type": "code",
      "metadata": {
        "id": "HWzlot-wI6cx",
        "colab_type": "code",
        "colab": {}
      },
      "source": [
        "for i in range(trainingCount):\n",
        "  train_h[i,:]=h_gen()\n",
        "for i in range(testCount):\n",
        "  test_h[i,:]=h_gen()\n",
        "for i in range(validationCount):\n",
        "    val_h[i,:]=h_gen()"
      ],
      "execution_count": null,
      "outputs": []
    },
    {
      "cell_type": "markdown",
      "metadata": {
        "id": "AHz2P7ThcUS5",
        "colab_type": "text"
      },
      "source": [
        "\n",
        "*   The Neural Network Cannot Process complex data as such.\n",
        "\n",
        "*   So the 64 units long Complex data is divided into 64 real and 64 imaginary part vectors and is concateneated to get a 128 unit long Real Vector\n",
        "\n",
        "\n"
      ]
    },
    {
      "cell_type": "code",
      "metadata": {
        "id": "DbKqHO7u6W70",
        "colab_type": "code",
        "colab": {
          "base_uri": "https://localhost:8080/",
          "height": 36
        },
        "outputId": "358a1361-c587-423d-a52e-c729abebaee0"
      },
      "source": [
        "train_hvector = np.concatenate((np.real(train_h), np.imag(train_h)), axis=1)\n",
        "val_hvector = np.concatenate((np.real(val_h), np.imag(val_h)), axis=1)\n",
        "test_hvector = np.concatenate((np.real(test_h), np.imag(test_h)), axis=1)\n",
        "\n",
        "print(train_h.shape, val_h.shape, test_h.shape, train_hvector.shape, val_hvector.shape, test_hvector.shape)"
      ],
      "execution_count": null,
      "outputs": [
        {
          "output_type": "stream",
          "text": [
            "(90000, 64) (14700, 64) (28000, 64) (90000, 128) (14700, 128) (28000, 128)\n"
          ],
          "name": "stdout"
        }
      ]
    },
    {
      "cell_type": "markdown",
      "metadata": {
        "id": "iy6djPlj6iDm",
        "colab_type": "text"
      },
      "source": [
        "ADC model\n"
      ]
    },
    {
      "cell_type": "markdown",
      "metadata": {
        "id": "2VJae812PwJJ",
        "colab_type": "text"
      },
      "source": [
        "1) Preparing Training Data"
      ]
    },
    {
      "cell_type": "code",
      "metadata": {
        "id": "5rUJ8MqSiK-y",
        "colab_type": "code",
        "colab": {}
      },
      "source": [
        "from collections import Counter\n",
        "nn=0.5                                                                          #ratio of high Res antennas to Total no antennas\n",
        "HighResCount =int(nn*antennaCount)   \n",
        "LowResCount=antennaCount-HighResCount                                                                 \n",
        "a=[0.6366,0.8825,0.96546,0.990503,0.997501]\n",
        "alpha=a[0]\n",
        "snrdb=[0,5,10,15,20,25,30]\n",
        "snrLinear=np.power(10,np.divide(snrdb,10))\n",
        "\n",
        "powerTrain=random.choices(snrLinear,k=trainingCount)\n",
        "powerTrain=np.asarray(power).reshape([trainingCount,1])                         #Converting and reshaping the list to Numpy array"
      ],
      "execution_count": null,
      "outputs": []
    },
    {
      "cell_type": "markdown",
      "metadata": {
        "id": "jzrR5wRtI38l",
        "colab_type": "text"
      },
      "source": [
        "Covariance Matrix for Quantisation Noise"
      ]
    },
    {
      "cell_type": "code",
      "metadata": {
        "id": "XsjJongfGdSy",
        "colab_type": "code",
        "colab": {}
      },
      "source": [
        "def qNoiseGen(h,power):\n",
        "    SampleCount=h.shape[0]\n",
        "    hLowRes = h[:,HighResCount:]\n",
        "    Rq=alpha*(1-alpha)*(1+power*(abs(hLowRes)**2))                              #Covariance Matrix\n",
        "    QuantNoise = (np.random.normal(0, Rq)+ \n",
        "                  1j * np.random.normal(0, Rq)) / np.sqrt(2)\n",
        "    return QuantNoise            "
      ],
      "execution_count": null,
      "outputs": []
    },
    {
      "cell_type": "code",
      "metadata": {
        "id": "bu-XLSFY7iD2",
        "colab_type": "code",
        "colab": {
          "base_uri": "https://localhost:8080/",
          "height": 36
        },
        "outputId": "03325e45-4273-4b79-b6b0-d0d6d9cba136"
      },
      "source": [
        "noise1 = (np.random.normal(0,np.ones([ trainingCount,antennaCount])) +\n",
        "      1j * np.random.normal(0, np.ones([ trainingCount,antennaCount]))) / np.sqrt(2)\n",
        "y=np.sqrt(power)*train_h+noise1                                                 # System Model\n",
        "y_highRes=y[:,:HighResCount]\n",
        "quantNoisetrain=qNoiseGen(train_h,powerTrain)\n",
        "y_lowRes=alpha*y[:,HighResCount:]+quantNoisetrain\n",
        "\n",
        "#Training Set for DI-DNN\n",
        "train_recieved=np.concatenate((y_highRes,y_lowRes),axis=1)                      #Recieved Values at the output of the RF chain\n",
        "train_recieved=train_recieved/np.sqrt(power)                                    #Output of Least Square Estimation\n",
        "train_recievedVector = np.concatenate((np.real(train_recieved), np.imag(train_recieved)), axis=1)             #Unrolling real and imag Axis\n",
        "\n",
        "print(y.shape,y_highRes.shape,train_recieved.shape,train_recievedVector.shape)"
      ],
      "execution_count": null,
      "outputs": [
        {
          "output_type": "stream",
          "text": [
            "(90000, 64) (90000, 32) (90000, 64) (90000, 128)\n"
          ],
          "name": "stdout"
        }
      ]
    },
    {
      "cell_type": "markdown",
      "metadata": {
        "id": "Eo7ZRVLlP1Ol",
        "colab_type": "text"
      },
      "source": [
        "2) Preparing Test data for different SNR"
      ]
    },
    {
      "cell_type": "code",
      "metadata": {
        "id": "JIHzWCiqP6L6",
        "colab_type": "code",
        "colab": {
          "base_uri": "https://localhost:8080/",
          "height": 36
        },
        "outputId": "9b74c16c-225d-4223-c17b-e5c8e44e0024"
      },
      "source": [
        "testCountperSNR=4000\n",
        "noise2 = (np.random.normal(0, np.ones([testCount,antennaCount])) + \n",
        "          1j * np.random.normal(0,np.ones([testCount,antennaCount]))) / np.sqrt(2)\n",
        "y_test=np.zeros([antennaCount,testCount],dtype=complex)\n",
        "powerTest=np.repeat(snrLinear,testCountperSNR).reshape([testCount,1])           #Repeating Each SNR 4000 times to generate 4000 test samples for each SNR value\n",
        "\n",
        "y_test=np.sqrt(powerTest)*test_h+noise2\n",
        "y_highResTest=y_test[:,:HighResCount]\n",
        "quantNoisetest= qNoiseGen(test_h,powerTest)\n",
        "y_lowResTest=alpha*y_test[:,HighResCount:]+quantNoisetest\n",
        "\n",
        "test_recieved=np.concatenate((y_highResTest,y_lowResTest),axis=1)\n",
        "test_recieved/=np.sqrt(powerTest)\n",
        "test_recievedVector=np.concatenate((np.real(test_recieved), np.imag(test_recieved)), axis=1)\n",
        "print(y_test.shape,test_recievedVector.shape)"
      ],
      "execution_count": null,
      "outputs": [
        {
          "output_type": "stream",
          "text": [
            "(28000, 64) (28000, 128)\n"
          ],
          "name": "stdout"
        }
      ]
    },
    {
      "cell_type": "code",
      "metadata": {
        "id": "d9yrOovwhTmz",
        "colab_type": "code",
        "colab": {
          "base_uri": "https://localhost:8080/",
          "height": 131
        },
        "outputId": "6ae67875-8e4f-41f5-8e59-20ee6e38c0a4"
      },
      "source": [
        "from google.colab import drive\n",
        "drive.mount('/content/gdrive')"
      ],
      "execution_count": null,
      "outputs": [
        {
          "output_type": "stream",
          "text": [
            "Go to this URL in a browser: https://accounts.google.com/o/oauth2/auth?client_id=947318989803-6bn6qk8qdgf4n4g3pfee6491hc0brc4i.apps.googleusercontent.com&redirect_uri=urn%3aietf%3awg%3aoauth%3a2.0%3aoob&scope=email%20https%3a%2f%2fwww.googleapis.com%2fauth%2fdocs.test%20https%3a%2f%2fwww.googleapis.com%2fauth%2fdrive%20https%3a%2f%2fwww.googleapis.com%2fauth%2fdrive.photos.readonly%20https%3a%2f%2fwww.googleapis.com%2fauth%2fpeopleapi.readonly&response_type=code\n",
            "\n",
            "Enter your authorization code:\n",
            "··········\n",
            "Mounted at /content/gdrive\n"
          ],
          "name": "stdout"
        }
      ]
    },
    {
      "cell_type": "code",
      "metadata": {
        "id": "vOBSDhInKDcA",
        "colab_type": "code",
        "colab": {}
      },
      "source": [
        "import os\n",
        "checkpoint_path='/content/gdrive/My Drive/Colab_Notebooks/cp'\n",
        "checkpoint_dir = os.path.dirname(checkpoint_path)\n",
        "cp_callback = keras.callbacks.ModelCheckpoint(filepath=checkpoint_path,\n",
        "                                                 save_weights_only=True,\n",
        "                                                 verbose=1)"
      ],
      "execution_count": null,
      "outputs": []
    },
    {
      "cell_type": "markdown",
      "metadata": {
        "id": "nlzxUTp7H-km",
        "colab_type": "text"
      },
      "source": [
        "Model for DI-DNN"
      ]
    },
    {
      "cell_type": "code",
      "metadata": {
        "id": "taVzezVuICeK",
        "colab_type": "code",
        "colab": {
          "base_uri": "https://localhost:8080/",
          "height": 1000
        },
        "outputId": "a50b99af-e458-4ca9-c6e3-5ead74783651"
      },
      "source": [
        "def myModel():\n",
        "  model = keras.models.Sequential([\n",
        "      keras.layers.Dense(160, activation='relu',input_shape=(128,)),\n",
        "      keras.layers.Dense(200, activation='relu'),\n",
        "      #keras.layers.Dense(400, activation=tf.nn.relu),\n",
        "      keras.layers.Dense(160, activation='relu'),\n",
        "      keras.layers.Dense(128, activation='tanh'),\n",
        "  ])\n",
        "  model.compile(optimizer=keras.optimizers.Adam(learning_rate=0.001),loss='mse',metrics='accuracy')\n",
        "  return model\n",
        "\n",
        "model =myModel()\n",
        "#model=keras.models.load_model('/content/drive/My Drive/Research/Models/mimogao')\n",
        "#model.load_weights(checkpoint_path)\n",
        "log=model.fit(train_recievedVector,train_hvector/3,epochs=100,verbose=1,batch_size=128)\n",
        "model.summary()"
      ],
      "execution_count": null,
      "outputs": [
        {
          "output_type": "stream",
          "text": [
            "Epoch 1/100\n",
            "704/704 [==============================] - 3s 4ms/step - loss: 0.0463 - accuracy: 0.0482\n",
            "Epoch 2/100\n",
            "704/704 [==============================] - 3s 4ms/step - loss: 0.0143 - accuracy: 0.2752\n",
            "Epoch 3/100\n",
            "704/704 [==============================] - 3s 5ms/step - loss: 0.0093 - accuracy: 0.3672\n",
            "Epoch 4/100\n",
            "704/704 [==============================] - 3s 5ms/step - loss: 0.0088 - accuracy: 0.3815\n",
            "Epoch 5/100\n",
            "704/704 [==============================] - 3s 4ms/step - loss: 0.0085 - accuracy: 0.3916\n",
            "Epoch 6/100\n",
            "704/704 [==============================] - 3s 5ms/step - loss: 0.0084 - accuracy: 0.3971\n",
            "Epoch 7/100\n",
            "704/704 [==============================] - 3s 4ms/step - loss: 0.0083 - accuracy: 0.4013\n",
            "Epoch 8/100\n",
            "704/704 [==============================] - 3s 4ms/step - loss: 0.0083 - accuracy: 0.4010\n",
            "Epoch 9/100\n",
            "704/704 [==============================] - 3s 4ms/step - loss: 0.0082 - accuracy: 0.4027\n",
            "Epoch 10/100\n",
            "704/704 [==============================] - 3s 4ms/step - loss: 0.0082 - accuracy: 0.4019\n",
            "Epoch 11/100\n",
            "704/704 [==============================] - 3s 4ms/step - loss: 0.0081 - accuracy: 0.4011\n",
            "Epoch 12/100\n",
            "704/704 [==============================] - 3s 4ms/step - loss: 0.0081 - accuracy: 0.4042\n",
            "Epoch 13/100\n",
            "704/704 [==============================] - 3s 4ms/step - loss: 0.0080 - accuracy: 0.4041\n",
            "Epoch 14/100\n",
            "704/704 [==============================] - 3s 4ms/step - loss: 0.0079 - accuracy: 0.4038\n",
            "Epoch 15/100\n",
            "704/704 [==============================] - 3s 4ms/step - loss: 0.0072 - accuracy: 0.4255\n",
            "Epoch 16/100\n",
            "704/704 [==============================] - 3s 4ms/step - loss: 0.0054 - accuracy: 0.4860\n",
            "Epoch 17/100\n",
            "704/704 [==============================] - 3s 4ms/step - loss: 0.0053 - accuracy: 0.4866\n",
            "Epoch 18/100\n",
            "704/704 [==============================] - 3s 4ms/step - loss: 0.0052 - accuracy: 0.4885\n",
            "Epoch 19/100\n",
            "704/704 [==============================] - 3s 4ms/step - loss: 0.0052 - accuracy: 0.4903\n",
            "Epoch 20/100\n",
            "704/704 [==============================] - 3s 4ms/step - loss: 0.0051 - accuracy: 0.4951\n",
            "Epoch 21/100\n",
            "704/704 [==============================] - 3s 4ms/step - loss: 0.0051 - accuracy: 0.4931\n",
            "Epoch 22/100\n",
            "704/704 [==============================] - 3s 4ms/step - loss: 0.0050 - accuracy: 0.4954\n",
            "Epoch 23/100\n",
            "704/704 [==============================] - 3s 4ms/step - loss: 0.0050 - accuracy: 0.4940\n",
            "Epoch 24/100\n",
            "704/704 [==============================] - 3s 4ms/step - loss: 0.0050 - accuracy: 0.4958\n",
            "Epoch 25/100\n",
            "704/704 [==============================] - 3s 4ms/step - loss: 0.0049 - accuracy: 0.4971\n",
            "Epoch 26/100\n",
            "704/704 [==============================] - 3s 4ms/step - loss: 0.0049 - accuracy: 0.4979\n",
            "Epoch 27/100\n",
            "704/704 [==============================] - 3s 4ms/step - loss: 0.0049 - accuracy: 0.4989\n",
            "Epoch 28/100\n",
            "704/704 [==============================] - 3s 4ms/step - loss: 0.0049 - accuracy: 0.4994\n",
            "Epoch 29/100\n",
            "704/704 [==============================] - 3s 4ms/step - loss: 0.0049 - accuracy: 0.5001\n",
            "Epoch 30/100\n",
            "704/704 [==============================] - 3s 4ms/step - loss: 0.0049 - accuracy: 0.5005\n",
            "Epoch 31/100\n",
            "704/704 [==============================] - 3s 4ms/step - loss: 0.0048 - accuracy: 0.4998\n",
            "Epoch 32/100\n",
            "704/704 [==============================] - 3s 4ms/step - loss: 0.0048 - accuracy: 0.5007\n",
            "Epoch 33/100\n",
            "704/704 [==============================] - 3s 4ms/step - loss: 0.0032 - accuracy: 0.6005\n",
            "Epoch 34/100\n",
            "704/704 [==============================] - 3s 4ms/step - loss: 0.0024 - accuracy: 0.6519\n",
            "Epoch 35/100\n",
            "704/704 [==============================] - 3s 4ms/step - loss: 0.0024 - accuracy: 0.6537\n",
            "Epoch 36/100\n",
            "704/704 [==============================] - 3s 4ms/step - loss: 0.0024 - accuracy: 0.6549\n",
            "Epoch 37/100\n",
            "704/704 [==============================] - 3s 4ms/step - loss: 0.0024 - accuracy: 0.6563\n",
            "Epoch 38/100\n",
            "704/704 [==============================] - 3s 4ms/step - loss: 0.0024 - accuracy: 0.6528\n",
            "Epoch 39/100\n",
            "704/704 [==============================] - 3s 4ms/step - loss: 0.0024 - accuracy: 0.6547\n",
            "Epoch 40/100\n",
            "704/704 [==============================] - 3s 4ms/step - loss: 0.0024 - accuracy: 0.6570\n",
            "Epoch 41/100\n",
            "704/704 [==============================] - 3s 4ms/step - loss: 0.0024 - accuracy: 0.6554\n",
            "Epoch 42/100\n",
            "704/704 [==============================] - 3s 4ms/step - loss: 0.0024 - accuracy: 0.6581\n",
            "Epoch 43/100\n",
            "704/704 [==============================] - 3s 4ms/step - loss: 0.0023 - accuracy: 0.6560\n",
            "Epoch 44/100\n",
            "704/704 [==============================] - 3s 4ms/step - loss: 0.0023 - accuracy: 0.6586\n",
            "Epoch 45/100\n",
            "704/704 [==============================] - 3s 4ms/step - loss: 0.0023 - accuracy: 0.6569\n",
            "Epoch 46/100\n",
            "704/704 [==============================] - 3s 4ms/step - loss: 0.0023 - accuracy: 0.6610\n",
            "Epoch 47/100\n",
            "704/704 [==============================] - 3s 4ms/step - loss: 0.0023 - accuracy: 0.6596\n",
            "Epoch 48/100\n",
            "704/704 [==============================] - 3s 4ms/step - loss: 0.0023 - accuracy: 0.6605\n",
            "Epoch 49/100\n",
            "704/704 [==============================] - 3s 4ms/step - loss: 0.0023 - accuracy: 0.6592\n",
            "Epoch 50/100\n",
            "704/704 [==============================] - 3s 4ms/step - loss: 0.0023 - accuracy: 0.6579\n",
            "Epoch 51/100\n",
            "704/704 [==============================] - 3s 4ms/step - loss: 0.0023 - accuracy: 0.6564\n",
            "Epoch 52/100\n",
            "704/704 [==============================] - 3s 4ms/step - loss: 0.0023 - accuracy: 0.6601\n",
            "Epoch 53/100\n",
            "704/704 [==============================] - 3s 4ms/step - loss: 0.0023 - accuracy: 0.6612\n",
            "Epoch 54/100\n",
            "704/704 [==============================] - 3s 4ms/step - loss: 0.0023 - accuracy: 0.6605\n",
            "Epoch 55/100\n",
            "704/704 [==============================] - 3s 4ms/step - loss: 0.0023 - accuracy: 0.6605\n",
            "Epoch 56/100\n",
            "704/704 [==============================] - 3s 4ms/step - loss: 0.0023 - accuracy: 0.6596\n",
            "Epoch 57/100\n",
            "704/704 [==============================] - 3s 4ms/step - loss: 0.0023 - accuracy: 0.6595\n",
            "Epoch 58/100\n",
            "704/704 [==============================] - 3s 4ms/step - loss: 0.0023 - accuracy: 0.6606\n",
            "Epoch 59/100\n",
            "704/704 [==============================] - 3s 4ms/step - loss: 0.0023 - accuracy: 0.6617\n",
            "Epoch 60/100\n",
            "704/704 [==============================] - 3s 4ms/step - loss: 0.0023 - accuracy: 0.6625\n",
            "Epoch 61/100\n",
            "704/704 [==============================] - 3s 4ms/step - loss: 0.0023 - accuracy: 0.6614\n",
            "Epoch 62/100\n",
            "704/704 [==============================] - 3s 4ms/step - loss: 0.0023 - accuracy: 0.6609\n",
            "Epoch 63/100\n",
            "704/704 [==============================] - 3s 4ms/step - loss: 0.0023 - accuracy: 0.6609\n",
            "Epoch 64/100\n",
            "704/704 [==============================] - 3s 4ms/step - loss: 0.0023 - accuracy: 0.6615\n",
            "Epoch 65/100\n",
            "704/704 [==============================] - 3s 4ms/step - loss: 0.0022 - accuracy: 0.6631\n",
            "Epoch 66/100\n",
            "704/704 [==============================] - 3s 4ms/step - loss: 0.0022 - accuracy: 0.6645\n",
            "Epoch 67/100\n",
            "704/704 [==============================] - 3s 4ms/step - loss: 0.0023 - accuracy: 0.6605\n",
            "Epoch 68/100\n",
            "704/704 [==============================] - 3s 4ms/step - loss: 0.0022 - accuracy: 0.6627\n",
            "Epoch 69/100\n",
            "704/704 [==============================] - 3s 4ms/step - loss: 0.0022 - accuracy: 0.6645\n",
            "Epoch 70/100\n",
            "704/704 [==============================] - 3s 4ms/step - loss: 0.0022 - accuracy: 0.6602\n",
            "Epoch 71/100\n",
            "704/704 [==============================] - 3s 4ms/step - loss: 0.0022 - accuracy: 0.6626\n",
            "Epoch 72/100\n",
            "704/704 [==============================] - 3s 4ms/step - loss: 0.0022 - accuracy: 0.6636\n",
            "Epoch 73/100\n",
            "704/704 [==============================] - 3s 4ms/step - loss: 0.0022 - accuracy: 0.6621\n",
            "Epoch 74/100\n",
            "704/704 [==============================] - 3s 4ms/step - loss: 0.0022 - accuracy: 0.6620\n",
            "Epoch 75/100\n",
            "704/704 [==============================] - 3s 4ms/step - loss: 0.0022 - accuracy: 0.6631\n",
            "Epoch 76/100\n",
            "704/704 [==============================] - 3s 4ms/step - loss: 0.0022 - accuracy: 0.6644\n",
            "Epoch 77/100\n",
            "704/704 [==============================] - 3s 4ms/step - loss: 0.0022 - accuracy: 0.6619\n",
            "Epoch 78/100\n",
            "704/704 [==============================] - 3s 4ms/step - loss: 0.0022 - accuracy: 0.6646\n",
            "Epoch 79/100\n",
            "704/704 [==============================] - 3s 4ms/step - loss: 0.0022 - accuracy: 0.6617\n",
            "Epoch 80/100\n",
            "704/704 [==============================] - 3s 4ms/step - loss: 0.0022 - accuracy: 0.6630\n",
            "Epoch 81/100\n",
            "704/704 [==============================] - 3s 4ms/step - loss: 0.0022 - accuracy: 0.6627\n",
            "Epoch 82/100\n",
            "704/704 [==============================] - 3s 4ms/step - loss: 0.0022 - accuracy: 0.6622\n",
            "Epoch 83/100\n",
            "704/704 [==============================] - 3s 4ms/step - loss: 0.0022 - accuracy: 0.6635\n",
            "Epoch 84/100\n",
            "704/704 [==============================] - 3s 4ms/step - loss: 0.0022 - accuracy: 0.6632\n",
            "Epoch 85/100\n",
            "704/704 [==============================] - 3s 4ms/step - loss: 0.0022 - accuracy: 0.6643\n",
            "Epoch 86/100\n",
            "704/704 [==============================] - 3s 4ms/step - loss: 0.0022 - accuracy: 0.6644\n",
            "Epoch 87/100\n",
            "704/704 [==============================] - 3s 4ms/step - loss: 0.0022 - accuracy: 0.6651\n",
            "Epoch 88/100\n",
            "704/704 [==============================] - 3s 4ms/step - loss: 0.0022 - accuracy: 0.6640\n",
            "Epoch 89/100\n",
            "704/704 [==============================] - 3s 4ms/step - loss: 0.0022 - accuracy: 0.6642\n",
            "Epoch 90/100\n",
            "704/704 [==============================] - 3s 4ms/step - loss: 0.0022 - accuracy: 0.6654\n",
            "Epoch 91/100\n",
            "704/704 [==============================] - 3s 4ms/step - loss: 0.0022 - accuracy: 0.6667\n",
            "Epoch 92/100\n",
            "704/704 [==============================] - 3s 4ms/step - loss: 0.0022 - accuracy: 0.6634\n",
            "Epoch 93/100\n",
            "704/704 [==============================] - 3s 4ms/step - loss: 0.0022 - accuracy: 0.6633\n",
            "Epoch 94/100\n",
            "704/704 [==============================] - 3s 4ms/step - loss: 0.0022 - accuracy: 0.6682\n",
            "Epoch 95/100\n",
            "704/704 [==============================] - 3s 4ms/step - loss: 0.0022 - accuracy: 0.6661\n",
            "Epoch 96/100\n",
            "704/704 [==============================] - 3s 4ms/step - loss: 0.0022 - accuracy: 0.6649\n",
            "Epoch 97/100\n",
            "704/704 [==============================] - 3s 4ms/step - loss: 0.0022 - accuracy: 0.6655\n",
            "Epoch 98/100\n",
            "704/704 [==============================] - 3s 4ms/step - loss: 0.0022 - accuracy: 0.6669\n",
            "Epoch 99/100\n",
            "704/704 [==============================] - 3s 4ms/step - loss: 0.0022 - accuracy: 0.6657\n",
            "Epoch 100/100\n",
            "704/704 [==============================] - 3s 4ms/step - loss: 0.0022 - accuracy: 0.6661\n",
            "Model: \"sequential\"\n",
            "_________________________________________________________________\n",
            "Layer (type)                 Output Shape              Param #   \n",
            "=================================================================\n",
            "dense (Dense)                (None, 160)               20640     \n",
            "_________________________________________________________________\n",
            "dense_1 (Dense)              (None, 200)               32200     \n",
            "_________________________________________________________________\n",
            "dense_2 (Dense)              (None, 160)               32160     \n",
            "_________________________________________________________________\n",
            "dense_3 (Dense)              (None, 128)               20608     \n",
            "=================================================================\n",
            "Total params: 105,608\n",
            "Trainable params: 105,608\n",
            "Non-trainable params: 0\n",
            "_________________________________________________________________\n"
          ],
          "name": "stdout"
        }
      ]
    },
    {
      "cell_type": "code",
      "metadata": {
        "id": "NH-QJ9-kCvhn",
        "colab_type": "code",
        "colab": {
          "base_uri": "https://localhost:8080/",
          "height": 284
        },
        "outputId": "e4ca2c2c-a888-4021-b8cd-7094854d5dbe"
      },
      "source": [
        "import matplotlib.pyplot as plt\n",
        "\n",
        "fig,axes= plt.subplots(1,2,figsize=(10,4))\n",
        "axes[0].plot(log.history['accuracy'])\n",
        "axes[1].plot(log.history['loss'])"
      ],
      "execution_count": null,
      "outputs": [
        {
          "output_type": "execute_result",
          "data": {
            "text/plain": [
              "[<matplotlib.lines.Line2D at 0x7f4d6656cef0>]"
            ]
          },
          "metadata": {
            "tags": []
          },
          "execution_count": 110
        },
        {
          "output_type": "display_data",
          "data": {
            "image/png": "[encoded data removed]",
            "text/plain": [
              "<Figure size 720x288 with 2 Axes>"
            ]
          },
          "metadata": {
            "tags": [],
            "needs_background": "light"
          }
        }
      ]
    },
    {
      "cell_type": "code",
      "metadata": {
        "id": "Ph6ikLzygJPD",
        "colab_type": "code",
        "colab": {
          "base_uri": "https://localhost:8080/",
          "height": 187
        },
        "outputId": "92f516b6-38e8-42c8-ce0c-0aab0fe27fae"
      },
      "source": [
        "from google.colab import drive\n",
        "drive.mount('/content/gdrive')\n",
        "model_name = \"mimogao\"\n",
        "model_dir = \"/content/gdrive/My Drive/Research/Models/\"\n",
        "dir = os.path.join(model_dir, model_name)\n",
        "model.save(dir)"
      ],
      "execution_count": null,
      "outputs": [
        {
          "output_type": "stream",
          "text": [
            "Drive already mounted at /content/gdrive; to attempt to forcibly remount, call drive.mount(\"/content/gdrive\", force_remount=True).\n",
            "WARNING:tensorflow:From /usr/local/lib/python3.6/dist-packages/tensorflow/python/training/tracking/tracking.py:111: Model.state_updates (from tensorflow.python.keras.engine.training) is deprecated and will be removed in a future version.\n",
            "Instructions for updating:\n",
            "This property should not be used in TensorFlow 2.0, as updates are applied automatically.\n",
            "WARNING:tensorflow:From /usr/local/lib/python3.6/dist-packages/tensorflow/python/training/tracking/tracking.py:111: Layer.updates (from tensorflow.python.keras.engine.base_layer) is deprecated and will be removed in a future version.\n",
            "Instructions for updating:\n",
            "This property should not be used in TensorFlow 2.0, as updates are applied automatically.\n",
            "INFO:tensorflow:Assets written to: /content/gdrive/My Drive/Research/Models/mimogao/assets\n"
          ],
          "name": "stdout"
        }
      ]
    },
    {
      "cell_type": "code",
      "metadata": {
        "id": "NDqqxCBN00YY",
        "colab_type": "code",
        "colab": {}
      },
      "source": [
        "model=keras.models.load_model(dir)"
      ],
      "execution_count": null,
      "outputs": []
    },
    {
      "cell_type": "markdown",
      "metadata": {
        "id": "V4uGmhzparET",
        "colab_type": "text"
      },
      "source": [
        "Finding Mean Square Corresponding to each SNR value"
      ]
    },
    {
      "cell_type": "code",
      "metadata": {
        "id": "3Vwgyc-mzHKK",
        "colab_type": "code",
        "colab": {
          "base_uri": "https://localhost:8080/",
          "height": 148
        },
        "outputId": "3591be7e-8b48-4ef7-8a06-9e9cac62dbad"
      },
      "source": [
        "for w in range(len(snrLinear)):\n",
        "  loss,acc=model.evaluate(test_recievedVector[w*testCountperSNR:(w+1)*testCountperSNR,:],test_hvector[w*testCountperSNR:(w+1)*testCountperSNR,:]/3)\n"
      ],
      "execution_count": null,
      "outputs": [
        {
          "output_type": "stream",
          "text": [
            "125/125 [==============================] - 0s 1ms/step - loss: 0.0089 - accuracy: 0.3500\n",
            "125/125 [==============================] - 0s 1ms/step - loss: 0.0037 - accuracy: 0.4985\n",
            "125/125 [==============================] - 0s 1ms/step - loss: 0.0017 - accuracy: 0.6298\n",
            "125/125 [==============================] - 0s 1ms/step - loss: 8.1831e-04 - accuracy: 0.7343\n",
            "125/125 [==============================] - 0s 1ms/step - loss: 5.0656e-04 - accuracy: 0.7955\n",
            "125/125 [==============================] - 0s 1ms/step - loss: 5.2606e-04 - accuracy: 0.7965\n",
            "125/125 [==============================] - 0s 1ms/step - loss: 8.1820e-04 - accuracy: 0.7538\n"
          ],
          "name": "stdout"
        }
      ]
    },
    {
      "cell_type": "code",
      "metadata": {
        "id": "F-5tA1f-Ho9y",
        "colab_type": "code",
        "colab": {
          "base_uri": "https://localhost:8080/",
          "height": 54
        },
        "outputId": "c46d5434-7e0e-4439-898c-b7851688cc38"
      },
      "source": [
        "h_predict=model.predict(test_recievedVector)\n",
        "h_retain=h_predict[:,:antennaCount]+1j*h_predict[:,antennaCount:]\n",
        "diff=(test_h-h_retain)\n",
        "normsq_test=np.square(np.linalg.norm(test_h,axis=1))\n",
        "normsq_diff=np.square(np.linalg.norm(diff,axis=1))\n",
        "error=normsq_diff/normsq_test\n",
        "nmse=np.zeros(len(snrLinear),)\n",
        "for w in range(len(snrLinear)):\n",
        "  nmse[w]= (1/testCountperSNR) * np.sum(error[w*testCountperSNR:(w+1)*testCountperSNR])\n",
        "\n",
        "print(nmse)\n",
        "#print(norm_test.shape,norm_diff.shape)\n",
        "#print(h_predict.shape,h_retain.shape,diff.shape)\n",
        "#print(diff)\n",
        "#h_predict-\n",
        "#for w in range(len(snrLinear)):\n",
        " # loss,acc=h_predict(test_recievedVector[:,w*testCountperSNR:(w+1)*testCountperSNR].T,test_hvector[:,w*testCountperSNR:(w+1)*testCountperSNR].T/3,)\n",
        "\n"
      ],
      "execution_count": null,
      "outputs": [
        {
          "output_type": "stream",
          "text": [
            "[0.53161828 0.48680688 0.46199279 0.45204923 0.44873686 0.44794582\n",
            " 0.4476189 ]\n"
          ],
          "name": "stdout"
        }
      ]
    },
    {
      "cell_type": "code",
      "metadata": {
        "id": "-1Vf01k7Q1Nd",
        "colab_type": "code",
        "colab": {
          "base_uri": "https://localhost:8080/",
          "height": 284
        },
        "outputId": "65eeb731-f41b-4243-e8d5-f428df6f5b28"
      },
      "source": [
        "import matplotlib.pyplot as plt\n",
        "plt.semilogy(snrdb,nmse)"
      ],
      "execution_count": null,
      "outputs": [
        {
          "output_type": "execute_result",
          "data": {
            "text/plain": [
              "[<matplotlib.lines.Line2D at 0x7f4d6599f6d8>]"
            ]
          },
          "metadata": {
            "tags": []
          },
          "execution_count": 108
        },
        {
          "output_type": "display_data",
          "data": {
            "image/png": "[encoded data removed]",
            "text/plain": [
              "<Figure size 432x288 with 1 Axes>"
            ]
          },
          "metadata": {
            "tags": [],
            "needs_background": "light"
          }
        }
      ]
    },
    {
      "cell_type": "code",
      "metadata": {
        "id": "Z-JtOsnLJJd2",
        "colab_type": "code",
        "colab": {
          "base_uri": "https://localhost:8080/",
          "height": 284
        },
        "outputId": "05706bb8-a4ea-49ee-97a5-9bdca85e617f"
      },
      "source": [
        ""
      ],
      "execution_count": null,
      "outputs": [
        {
          "output_type": "execute_result",
          "data": {
            "text/plain": [
              "[<matplotlib.lines.Line2D at 0x7f4d6644d2b0>]"
            ]
          },
          "metadata": {
            "tags": []
          },
          "execution_count": 109
        },
        {
          "output_type": "display_data",
          "data": {
            "image/png": "[encoded data removed]",
            "text/plain": [
              "<Figure size 720x288 with 2 Axes>"
            ]
          },
          "metadata": {
            "tags": [],
            "needs_background": "light"
          }
        }
      ]
    },
    {
      "cell_type": "markdown",
      "metadata": {
        "id": "NhHGIBmMhvWl",
        "colab_type": "text"
      },
      "source": [
        "SIP-DNN: \n",
        "Uses the information obtained from the set of High resolution ADCS to train the Network."
      ]
    }
  ]
}